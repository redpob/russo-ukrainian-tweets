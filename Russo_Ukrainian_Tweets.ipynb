{
 "cells": [
  {
   "cell_type": "code",
   "execution_count": 64,
   "id": "fa2d527d",
   "metadata": {},
   "outputs": [],
   "source": [
    "import csv\n",
    "import tweepy\n",
    "import pandas as pd  \n",
    "\n",
    "bearer_token = 'AAAAAAAAAAAAAAAAAAAAAFGpaQEAAAAA8rHDnJmSDM52Zc8bsFCSF99Fuqc%3DKHjzrscr64ik2ABo6pY300yIn8qJ2mUFDwdzTGf4yQlJ6x54wU'\n",
    "consumer_key = 'AYtGAram3RFQjQMC2IW05nBwa'\n",
    "consumer_secret = 'vxTYmxvTgUEF2wmFYtnNi3XqT0Oh1DaJMcXa9CAX5EG9YFIcTU'\n",
    "access_token = '1505296286454493189-kuQXanTRDOVQoUXEPHhGjFOlAOXCYP'\n",
    "access_token_secret = 'pFxAJ9bWizKNuzce29NY697ldS6KrgIOLaJ7svhgNsFYH'\n",
    "\n",
    "client = tweepy.Client(bearer_token = bearer_token, \n",
    "                       consumer_key = consumer_key, \n",
    "                        consumer_secret = consumer_secret, \n",
    "                        access_token = access_token, \n",
    "                        access_token_secret = access_token_secret)"
   ]
  },
  {
   "cell_type": "code",
   "execution_count": 108,
   "id": "6f4cc11f",
   "metadata": {},
   "outputs": [],
   "source": [
    "tweet_data = client.search_recent_tweets(query = \"ukraine\", max_results = 100).data"
   ]
  },
  {
   "cell_type": "code",
   "execution_count": 109,
   "id": "b21c0be8",
   "metadata": {
    "scrolled": true
   },
   "outputs": [
    {
     "name": "stdout",
     "output_type": "stream",
     "text": [
      "{'id': 1505408217945292800, 'text': '@Chris_1791 @nypost I would say bring it on and make sure that Trumps investigation with Ukraine comes out completely and how he helped Putin in this war. If I were Biden I would call the Republicans bluff and make them look like idiots.', 'user_id': 2375882414, 'name': 'Sleepwalk No More❗️', 'username': 'Ukrainik'}\n",
      "{'id': 1505408217714733058, 'text': \"RT @AdeldMeyer: Stand with Ukraine?\\nYou couldn't even stand with your own family, friends and neighbors the past two years. 🙄\", 'user_id': 2375882414, 'name': 'Sleepwalk No More❗️', 'username': 'Ukrainik'}\n",
      "{'id': 1505408217614110724, 'text': 'RT @cepa: 🇺🇦 “For the sake of everything that is good in this world, for the sake of hope, Ukraine should win. Ukraine must win, but the wo…', 'user_id': 2375882414, 'name': 'Sleepwalk No More❗️', 'username': 'Ukrainik'}\n",
      "{'id': 1505408217559580675, 'text': 'RT @andersostlund: \"No money, no war\". That\\'s exactly how it is. Europe has to stop financing Russia\\'s war against Ukraine. It cannot conti…', 'user_id': 2375882414, 'name': 'Sleepwalk No More❗️', 'username': 'Ukrainik'}\n",
      "{'id': 1505408217534418947, 'text': 'RT @McFaul: Putin has escalated his attacks on civilians in Ukraine, so the free world must escalate sanctions on Russia. Maintaining the s…', 'user_id': 2375882414, 'name': 'Sleepwalk No More❗️', 'username': 'Ukrainik'}\n",
      "{'id': 1505408217358032908, 'text': 'RT @visegrad24: Belarusian railway workers today sabotaged the railway lines leading to Ukraine, making it impossible for the Russians to r…', 'user_id': 2375882414, 'name': 'Sleepwalk No More❗️', 'username': 'Ukrainik'}\n",
      "{'id': 1505408216888270848, 'text': 'RT @Ataa_Moazen: دخترم!\\nدوباره برخواهم گشت\\nتا با هم زیباترین ترانه\\u200cهای را برای میهن آزاد بخوانیم\\nدوباره برخواهم گشت #ایران\\nМоя дочка!\\nЯ пов…', 'user_id': 2375882414, 'name': 'Sleepwalk No More❗️', 'username': 'Ukrainik'}\n",
      "{'id': 1505408216758333440, 'text': 'RT @Arcturus6thdim1: This is news coming out of Ukraine. Look familiar? https://t.co/JsOhcZxZH0', 'user_id': 2375882414, 'name': 'Sleepwalk No More❗️', 'username': 'Ukrainik'}\n",
      "{'id': 1505408216561119232, 'text': 'RT @HannaLiubakova: 11 employees of the Belarusian embassy left #Ukraine. The last employee crossed the border today at 9 am. This is quite…', 'user_id': 2375882414, 'name': 'Sleepwalk No More❗️', 'username': 'Ukrainik'}\n",
      "{'id': 1505408216393465864, 'text': 'RT @Tsihanouskaya: Belarusians now not only have to fight against the regime of Lukashenka but also for Ukrainians. Because we understand t…', 'user_id': 2375882414, 'name': 'Sleepwalk No More❗️', 'username': 'Ukrainik'}\n",
      "{'id': 1505408216385085446, 'text': \"RT @BBCWorld: Ukraine's Jewish children, who were airlifted to Israel, have been dressing up for the joyful Jewish holiday of Purim https:/…\", 'user_id': 2375882414, 'name': 'Sleepwalk No More❗️', 'username': 'Ukrainik'}\n",
      "{'id': 1505408216242561024, 'text': 'RT @LeierKp: GASTKOMMENTAR - Deutschland kommt eine besondere Verantwortung zu https://t.co/POTQR0iXE2 via @NZZ', 'user_id': 2375882414, 'name': 'Sleepwalk No More❗️', 'username': 'Ukrainik'}\n",
      "{'id': 1505408215911223301, 'text': \"@dalyvalet Derriere ces belles geste de bravoure, il y aura des zones decimees. Ukraine jouerait le role d'idiot utile\", 'user_id': 2375882414, 'name': 'Sleepwalk No More❗️', 'username': 'Ukrainik'}\n",
      "{'id': 1505408215747796995, 'text': 'RT @flagnetwork_NFT: 🕊️The #FlagNetwork Charity Foundation would like to announce an event to support the people of Ukraine\\n\\n🎁Total budget:…', 'user_id': 2375882414, 'name': 'Sleepwalk No More❗️', 'username': 'Ukrainik'}\n",
      "{'id': 1505408215399505920, 'text': 'RT @RWApodcast: So has anyone mentioned that Zelensky just banned all opposition parties in Ukraine through the National Security and Defen…', 'user_id': 2375882414, 'name': 'Sleepwalk No More❗️', 'username': 'Ukrainik'}\n",
      "{'id': 1505408214820564994, 'text': 'RT @HannaLiubakova: 11 employees of the Belarusian embassy left #Ukraine. The last employee crossed the border today at 9 am. This is quite…', 'user_id': 2375882414, 'name': 'Sleepwalk No More❗️', 'username': 'Ukrainik'}\n",
      "{'id': 1505408213507792907, 'text': 'RT @YourAnonOne: The #Anonymous collective has sent 7.000.000 anti-war texts to Russian cell phone users to tell them the truth about Putin…', 'user_id': 2375882414, 'name': 'Sleepwalk No More❗️', 'username': 'Ukrainik'}\n",
      "{'id': 1505408213096804353, 'text': 'RT @McFaul: Putin will lose his unprovoked, senseless, inhumane war in Ukraine. The only unknowns are when and at what cost. The West must…', 'user_id': 2375882414, 'name': 'Sleepwalk No More❗️', 'username': 'Ukrainik'}\n",
      "{'id': 1505408213042311170, 'text': 'RT @UAWeapons: #Ukraine: A Russian cargo truck, full of artillery projectiles, was targeted by the Ukrainian forces near #Mykolaiv. The amm…', 'user_id': 2375882414, 'name': 'Sleepwalk No More❗️', 'username': 'Ukrainik'}\n",
      "{'id': 1505408212681596928, 'text': 'Y’all Twerking for #Jesus &amp; bible when u want to invade a land and kill freely. \\n#Ukraine #Israel https://t.co/j4f9b17WUF', 'user_id': 2375882414, 'name': 'Sleepwalk No More❗️', 'username': 'Ukrainik'}\n",
      "{'id': 1505408212425592832, 'text': \"RT @business: Vladimir Potanin, Russia's richest man, is an example of how quickly Western bastions of social capital are turning amid a pr…\", 'user_id': 2375882414, 'name': 'Sleepwalk No More❗️', 'username': 'Ukrainik'}\n",
      "{'id': 1505408212115378178, 'text': \"RT @andersostlund: Russia's destruction of civilian factories and infrastructure tells a lot about Russia's plans for Ukraine. Russia has n…\", 'user_id': 2375882414, 'name': 'Sleepwalk No More❗️', 'username': 'Ukrainik'}\n",
      "{'id': 1505408212064944128, 'text': \"RT @JimMurp77852985: I guess being called racist, misogynist and extremist wasn't enough, now the Toronto Star in its push for Trudeaumania…\", 'user_id': 2375882414, 'name': 'Sleepwalk No More❗️', 'username': 'Ukrainik'}\n",
      "{'id': 1505408211784192003, 'text': 'RT @flagnetwork_NFT: 🕊️The #FlagNetwork Charity Foundation would like to announce an event to support the people of Ukraine\\n\\n🎁Total budget:…', 'user_id': 2375882414, 'name': 'Sleepwalk No More❗️', 'username': 'Ukrainik'}\n",
      "{'id': 1505408211548991496, 'text': '@DoitMoon22 And you will soon I hope.  Kiev could be the what Nuremburg was at the fall of Germany in WW II that formed the International Criminal Court and the UN.\\n\\nThis is the WORD that is with Ukraine the Aliance.  I do hope we can make a safer world w/ this after Russa quits. https://t.co/A43WhCScs3', 'user_id': 2375882414, 'name': 'Sleepwalk No More❗️', 'username': 'Ukrainik'}\n",
      "{'id': 1505408211196731394, 'text': \"RT @thekennykarma: Something about this #Ukraine doesn't add up!\", 'user_id': 2375882414, 'name': 'Sleepwalk No More❗️', 'username': 'Ukrainik'}\n",
      "{'id': 1505408211083485185, 'text': 'RT @NoLieWithBTC: NEW: The European Union is considering using Russian oligarchs’ frozen assets — including yachts, jets, and luxury proper…', 'user_id': 2375882414, 'name': 'Sleepwalk No More❗️', 'username': 'Ukrainik'}\n",
      "{'id': 1505408211058372608, 'text': 'RT @rentvchannel: Сдавшийся в плен заместитель командира первого механизированного батальона 14-й бригады ВСУ Иван Соболев на допросе назва…', 'user_id': 2375882414, 'name': 'Sleepwalk No More❗️', 'username': 'Ukrainik'}\n",
      "{'id': 1505408210932576257, 'text': 'RT @kiraincongress: Kind reminder, that in 2014 #Ukraine did have a neutral status. Did not prevent #Putin to invade Donbas.\\nSo, now this d…', 'user_id': 2375882414, 'name': 'Sleepwalk No More❗️', 'username': 'Ukrainik'}\n",
      "{'id': 1505408210592800768, 'text': 'RT @RT_com: Russia provides further evidence of alleged bioweapon labs in Ukraine\\n\\nFollow us on Telegram https://t.co/8u9sqguYRV https://t.…', 'user_id': 2375882414, 'name': 'Sleepwalk No More❗️', 'username': 'Ukrainik'}\n",
      "{'id': 1505408210110324736, 'text': 'RT @AzebAze59444506: - #Russia invasion of #Ukraine has overshadowed the atrocities and man-made famine #Tigrayans have fallen victim to fo…', 'user_id': 2375882414, 'name': 'Sleepwalk No More❗️', 'username': 'Ukrainik'}\n",
      "{'id': 1505408209418276866, 'text': 'RT @crowadinfinitum: @KyivIndependent May the skies of Ukraine 🇺🇦 be filled with with an Army of Angels to protect all the people of Ukrain…', 'user_id': 2375882414, 'name': 'Sleepwalk No More❗️', 'username': 'Ukrainik'}\n",
      "{'id': 1505408209129033729, 'text': \"RT @EuromaidanPress: ⚡Ukraine's RNBO suspends activities of pro-🇷🇺 political parties for the time of the war, Zelenskyy informs:\\n\\n🔹Oppositi…\", 'user_id': 2375882414, 'name': 'Sleepwalk No More❗️', 'username': 'Ukrainik'}\n",
      "{'id': 1505408209112158212, 'text': \"RT @TrentTelenko: Alright Lady's &amp; Gentlemen, boys and girls, it is time for another Truck logistics thread🧵 for this latest Russian Invasi…\", 'user_id': 2375882414, 'name': 'Sleepwalk No More❗️', 'username': 'Ukrainik'}\n",
      "{'id': 1505408209070137344, 'text': '@bradpomerance All the while propagandizing his own people into believing the war is about de-nazifying Ukraine… this is where Trump got his big lie playbook.', 'user_id': 2375882414, 'name': 'Sleepwalk No More❗️', 'username': 'Ukrainik'}\n",
      "{'id': 1505408208864780291, 'text': 'RT @GuntherEagleman: Keep in mind… The war in Ukraine is not what you are seeing in the media.', 'user_id': 2375882414, 'name': 'Sleepwalk No More❗️', 'username': 'Ukrainik'}\n",
      "{'id': 1505408208801775616, 'text': \"RT @christogrozev: In the event you are not angry enough, do read this excellent comparison between Russia's purposeful attacks on civilian…\", 'user_id': 2375882414, 'name': 'Sleepwalk No More❗️', 'username': 'Ukrainik'}\n",
      "{'id': 1505408208797507587, 'text': 'I swear the devastation from the war in Ukraine is terrible *posts pictures of Detroit*', 'user_id': 2375882414, 'name': 'Sleepwalk No More❗️', 'username': 'Ukrainik'}\n",
      "{'id': 1505408208793448451, 'text': 'RT @LatestAnonPress: Nestle remains in #Russia, paying taxes to the Russian government, giving Putin money to kill civilians and children i…', 'user_id': 2375882414, 'name': 'Sleepwalk No More❗️', 'username': 'Ukrainik'}\n",
      "{'id': 1505408208688783360, 'text': \"RT @TrentTelenko: Alright Lady's &amp; Gentlemen, boys and girls, it is time for another Truck logistics thread🧵 for this latest Russian Invasi…\", 'user_id': 2375882414, 'name': 'Sleepwalk No More❗️', 'username': 'Ukrainik'}\n",
      "{'id': 1505408207975436288, 'text': \"And this doesn't just apply to Russian speakers, but ethnic Russians as well. \\n\\nThe presence of so many Russians and Russian-speakers in Ukraine is the result of settler-colonialism and ethno-linguistic suppression.\\n\\n#Ukraine #Russia #Holodomor https://t.co/qj86rv5zXN\", 'user_id': 2375882414, 'name': 'Sleepwalk No More❗️', 'username': 'Ukrainik'}\n",
      "{'id': 1505408207853916161, 'text': 'My president is Donald Trump! He cared for our Country and helped other countries! He would have had help for Ukraine fast! They are pleading for help and getting very little from US, and a little late!  Pray for our leaders , they all need God!://youtu.be/gmWEv6WAysg', 'user_id': 2375882414, 'name': 'Sleepwalk No More❗️', 'username': 'Ukrainik'}\n",
      "{'id': 1505408207509811201, 'text': \"RT @pdmcleod: Curious that the Russians haven't used their secret Havana Syndrome technology in Ukraine.\", 'user_id': 2375882414, 'name': 'Sleepwalk No More❗️', 'username': 'Ukrainik'}\n",
      "{'id': 1505408207170252812, 'text': 'RT @Logically_JC: I like how Joe Biden helps Ukraine without asking for a favor first.', 'user_id': 2375882414, 'name': 'Sleepwalk No More❗️', 'username': 'Ukrainik'}\n",
      "{'id': 1505408206654169090, 'text': 'RT @Jerusalem_Post: Work began on the #Israeli \"Kohav Meir\" (Shining Star) field hospital in Mostyska, #Ukraine on Saturday, with the hospi…', 'user_id': 2375882414, 'name': 'Sleepwalk No More❗️', 'username': 'Ukrainik'}\n",
      "{'id': 1505408206499049472, 'text': 'WELCOME TO HELL: UKRAINE KILLED A FOURTH RUSSIAN GENERAL AFTER HE MADE A... https://t.co/ewBDIwD7lX via @YouTube', 'user_id': 2375882414, 'name': 'Sleepwalk No More❗️', 'username': 'Ukrainik'}\n",
      "{'id': 1505408206184493059, 'text': \"RT @AdeldMeyer: Stand with Ukraine?\\nYou couldn't even stand with your own family, friends and neighbors the past two years. 🙄\", 'user_id': 2375882414, 'name': 'Sleepwalk No More❗️', 'username': 'Ukrainik'}\n",
      "{'id': 1505408205576409088, 'text': 'RT @BuzzPatterson: Did you guys know that the US is using Russia to negotiate a new nuclear treaty with Iran? The Russia that’s killing bab…', 'user_id': 2375882414, 'name': 'Sleepwalk No More❗️', 'username': 'Ukrainik'}\n",
      "{'id': 1505408205454823427, 'text': 'RT @apmassaro3: Putin’s capture of western elites was a serious problem and would have only grown worse had Ukraine not reminded the West o…', 'user_id': 2375882414, 'name': 'Sleepwalk No More❗️', 'username': 'Ukrainik'}\n",
      "{'id': 1505408205257682946, 'text': 'RT @McFaul: Putin has escalated his attacks on civilians in Ukraine, so the free world must escalate sanctions on Russia. Maintaining the s…', 'user_id': 2375882414, 'name': 'Sleepwalk No More❗️', 'username': 'Ukrainik'}\n",
      "{'id': 1505408205089910791, 'text': \"@salliemonkey @carlbildt @BorisJohnson I understand it's not pretty and very disrespectful as a statement. But Macron's highly eloquent speeches do less for Ukraine than a single NLAW the British sent to the ukrainian defenders. And that's a fact.\", 'user_id': 2375882414, 'name': 'Sleepwalk No More❗️', 'username': 'Ukrainik'}\n",
      "{'id': 1505408204909518853, 'text': 'RT @visegrad24: Children at a Spanish kindergarten welcome a refugee boy from Ukraine.\\n\\n🇪🇸🇺🇦 https://t.co/qAiPWIZAYP', 'user_id': 2375882414, 'name': 'Sleepwalk No More❗️', 'username': 'Ukrainik'}\n",
      "{'id': 1505408204909338630, 'text': \"RT @retreado: A compilation of some of the Twitter profile pics supporting Ukraine's struggle against Russian aggression. https://t.co/XFr8…\", 'user_id': 2375882414, 'name': 'Sleepwalk No More❗️', 'username': 'Ukrainik'}\n",
      "{'id': 1505408204884230145, 'text': 'RT @dklaidman: Sometimes knows as “Putin’s foot soldier,” Chechen warlord Ramzan Kadyrov is a “psychopath who personally tortures his priso…', 'user_id': 2375882414, 'name': 'Sleepwalk No More❗️', 'username': 'Ukrainik'}\n",
      "{'id': 1505408204523675660, 'text': 'Russia-Ukraine reside updates: Zelensky renews enchantment for diplomacy as Kremlin forces make lethal features in\\xa0south https://t.co/hUkYpPXBfN', 'user_id': 2375882414, 'name': 'Sleepwalk No More❗️', 'username': 'Ukrainik'}\n",
      "{'id': 1505408204183937027, 'text': 'RT @InfoResist: В Украине ликвидирован замкомандующего Черноморским флотом Палий https://t.co/oPsKJm3Ff0 https://t.co/Kpf2cYSOyF', 'user_id': 2375882414, 'name': 'Sleepwalk No More❗️', 'username': 'Ukrainik'}\n",
      "{'id': 1505408202640277507, 'text': 'RT @SangerNYT: NEWS: The United States has quietly floated to Turkey a proposal that it transfer its Russian-supplied S-400 anti-aircraft s…', 'user_id': 2375882414, 'name': 'Sleepwalk No More❗️', 'username': 'Ukrainik'}\n",
      "{'id': 1505408202103472129, 'text': 'RT @MaajidNawaz: Uniting with NAZIS to defeat Putin in Ukraine is like uniting with ISIS to defeat Putin in Syria. It is a STUPID position…', 'user_id': 2375882414, 'name': 'Sleepwalk No More❗️', 'username': 'Ukrainik'}\n",
      "{'id': 1505408201818210306, 'text': 'RT @Amstel20111: When my daughter got back home from Ukraine.\\nI am grateful to God and FGN, through all the agencies of government used for…', 'user_id': 2375882414, 'name': 'Sleepwalk No More❗️', 'username': 'Ukrainik'}\n",
      "{'id': 1505408201776369665, 'text': 'RT @pikelakeakn: AGAIN: IN CASE YOU FORGOT. Garry Kasparov: How the free world gave Putin the green light - Chicago Tribune https://t.co/IS…', 'user_id': 2375882414, 'name': 'Sleepwalk No More❗️', 'username': 'Ukrainik'}\n",
      "{'id': 1505408201495306240, 'text': 'RT @uba_dike: The whole world is standing for Ukraine what of we Biafrans?? We lost more than 5m innocent children till today on genocide h…', 'user_id': 2375882414, 'name': 'Sleepwalk No More❗️', 'username': 'Ukrainik'}\n",
      "{'id': 1505408201046458368, 'text': 'RT @kylegriffin1: Reuters: Pope Francis, ramping up his implicit criticism of Russia, says the war in Ukraine is a \"perverse abuse of power…', 'user_id': 2375882414, 'name': 'Sleepwalk No More❗️', 'username': 'Ukrainik'}\n",
      "{'id': 1505408200958349315, 'text': 'RT @ukraine_world: Lukashenka: Putin suggests Ukraine to become a country like Belarus. -- well, this is precisely what Ukrainians will alw…', 'user_id': 2375882414, 'name': 'Sleepwalk No More❗️', 'username': 'Ukrainik'}\n",
      "{'id': 1505408200861835268, 'text': 'RT @McFaul: Putin has escalated his attacks on civilians in Ukraine, so the free world must escalate sanctions on Russia. Maintaining the s…', 'user_id': 2375882414, 'name': 'Sleepwalk No More❗️', 'username': 'Ukrainik'}\n",
      "{'id': 1505408200786341892, 'text': 'RT @joncoopertweets: Raise your hand if you agree President Biden has done an OUTSTANDING job holding the NATO alliance together in its sup…', 'user_id': 2375882414, 'name': 'Sleepwalk No More❗️', 'username': 'Ukrainik'}\n",
      "{'id': 1505408200551636993, 'text': \"Cutting streaming services, social media and other stuff from Russia, won't help Ukraine in anything, it'll just make life of some people difficult, people that doesnt even have anything about it!\\n\\nIk that I'm saying the obvious, but I just wanted to say it\", 'user_id': 2375882414, 'name': 'Sleepwalk No More❗️', 'username': 'Ukrainik'}\n",
      "{'id': 1505408200140546049, 'text': 'RT @TrentTelenko: Between the end of April and Mid-May 2022, the Ukrainian Army will be able to counter-attack EVERYWHERE.\\n\\nBecause there w…', 'user_id': 2375882414, 'name': 'Sleepwalk No More❗️', 'username': 'Ukrainik'}\n",
      "{'id': 1505408200094457859, 'text': 'RT @SimonOstrovsky: Kremlin crooner Oleg Gazmanov at the pro-war rally Putin went to yesterday singing “Ukraine and Crimea, Belarus and Mol…', 'user_id': 2375882414, 'name': 'Sleepwalk No More❗️', 'username': 'Ukrainik'}\n",
      "{'id': 1505408199989805064, 'text': 'RT @Betty25394311: The New Federal State of China is founded in June 4 , 2020. We insist on our righteousness and justice in the world.  Un…', 'user_id': 2375882414, 'name': 'Sleepwalk No More❗️', 'username': 'Ukrainik'}\n",
      "{'id': 1505408199876300800, 'text': 'RT @AXUM_KINGDOM21: The international community has abandoned #Tigray - institutions like the @IntlCrimCourt took only a few days to start…', 'user_id': 2375882414, 'name': 'Sleepwalk No More❗️', 'username': 'Ukrainik'}\n",
      "{'id': 1505408199825887237, 'text': 'RT @SamRamani2: https://t.co/b5caLqy9U6', 'user_id': 2375882414, 'name': 'Sleepwalk No More❗️', 'username': 'Ukrainik'}\n",
      "{'id': 1505408199264022530, 'text': 'RT @_JakubJanda: Largest war in Europe since WWII and two largest EU countries (Germany and France) do nothing real.\\n\\nTheir arms companies…', 'user_id': 2375882414, 'name': 'Sleepwalk No More❗️', 'username': 'Ukrainik'}\n",
      "{'id': 1505408198815227907, 'text': 'RT @NTenzer: #Grozny in #Chechnya\\n#Aleppo in #Syria \\n#Mariupol and #Kharkiv in #Ukraine \\nThe same pattern.\\nThe same #warcrimes perpetrated…', 'user_id': 2375882414, 'name': 'Sleepwalk No More❗️', 'username': 'Ukrainik'}\n",
      "{'id': 1505408198693756929, 'text': 'RT @ReutersJapan: ロシア、ベラルーシ軍を紛争に巻き込もうと画策＝ウクライナ高官 https://t.co/t7oaaidYUD', 'user_id': 2375882414, 'name': 'Sleepwalk No More❗️', 'username': 'Ukrainik'}\n",
      "{'id': 1505408198416642050, 'text': '@MarshaBlackburn 3.2 million have fled Ukraine…move into the current century…', 'user_id': 2375882414, 'name': 'Sleepwalk No More❗️', 'username': 'Ukrainik'}\n",
      "{'id': 1505408198345465856, 'text': 'RT @McFaul: Putin has escalated his attacks on civilians in Ukraine, so the free world must escalate sanctions on Russia. Maintaining the s…', 'user_id': 2375882414, 'name': 'Sleepwalk No More❗️', 'username': 'Ukrainik'}\n",
      "{'id': 1505408197938491394, 'text': 'RT @nacidaenvenus: el chabón seguro pensaba ah sí pray for ukraine', 'user_id': 2375882414, 'name': 'Sleepwalk No More❗️', 'username': 'Ukrainik'}\n",
      "{'id': 1505408197871521796, 'text': 'RT @Reuters: China on the right side of history over Ukraine war - foreign minister https://t.co/XdsnKGeH8m https://t.co/u0t1rul7kD', 'user_id': 2375882414, 'name': 'Sleepwalk No More❗️', 'username': 'Ukrainik'}\n",
      "{'id': 1505408197816950786, 'text': \"I'm not pro-Putin.\\nHas Putin done anything worse than George Bush in 2003?\\nThe same people that led you to believe Bush was right in 2003 are telling you Ukraine is right now.\", 'user_id': 2375882414, 'name': 'Sleepwalk No More❗️', 'username': 'Ukrainik'}\n",
      "{'id': 1505408197317865474, 'text': 'RT @Youblacksoul: Thread. Hundreds of civilians have been punished for diverse reasons in Ukraine by paramilitary groups and National guard…', 'user_id': 2375882414, 'name': 'Sleepwalk No More❗️', 'username': 'Ukrainik'}\n",
      "{'id': 1505408196227530755, 'text': 'RT @ants_vigil: At no point should China be considered an appropriate candidate as mediator in the Russia-Ukraine War.  Ireland would be wa…', 'user_id': 2375882414, 'name': 'Sleepwalk No More❗️', 'username': 'Ukrainik'}\n",
      "{'id': 1505408196080406528, 'text': 'RT @ReutersJapan: 対ロシア制裁「ますます理不尽に」、中国高官が西側批判 https://t.co/W9IFSnfAGC', 'user_id': 2375882414, 'name': 'Sleepwalk No More❗️', 'username': 'Ukrainik'}\n",
      "{'id': 1505408195829071872, 'text': 'RT @WritesBright: UKRAINE LITERALLY WANTS TO JOIN THE EUROPEAN UNION YOU BRAINLESS HAYSTACK https://t.co/qkQtwaMEm7', 'user_id': 2375882414, 'name': 'Sleepwalk No More❗️', 'username': 'Ukrainik'}\n",
      "{'id': 1505408195543580674, 'text': 'RT @PlayWizardia: 🇺🇦 #SupportUkraine 🇺🇦\\n\\n@PlayWizardia is launching a charity event.\\n\\nWe’re going to raise $5K from the sale of Arena Genes…', 'user_id': 2375882414, 'name': 'Sleepwalk No More❗️', 'username': 'Ukrainik'}\n",
      "{'id': 1505408195522613251, 'text': 'RT @Humanlty1o1: Just a reminder...\\n\\nYour politicians could not show up for work in 2 years to discuss:\\n\\nCovid\\nGovernment powers\\nConfidence…', 'user_id': 2375882414, 'name': 'Sleepwalk No More❗️', 'username': 'Ukrainik'}\n",
      "{'id': 1505408195484921865, 'text': \"RT @japantimes: The top envoys of Japan and Turkey have jointly condemned Russia's invasion of Ukraine, calling it a serious breach of inte…\", 'user_id': 2375882414, 'name': 'Sleepwalk No More❗️', 'username': 'Ukrainik'}\n",
      "{'id': 1505408195463852032, 'text': 'RT @OccupyDemocrats: BREAKING NEWS: In a major loss for Putin, NATO announces that it is sending an air defense system to Ukraine in order…', 'user_id': 2375882414, 'name': 'Sleepwalk No More❗️', 'username': 'Ukrainik'}\n",
      "{'id': 1505408195241689096, 'text': 'RT @LegendaryEnergy: People that spinelessly ignored &amp; played along with the Orwellian societal-shifting lockdowns, vaccine mandates, busin…', 'user_id': 2375882414, 'name': 'Sleepwalk No More❗️', 'username': 'Ukrainik'}\n",
      "{'id': 1505408194662715393, 'text': '@Ukraine The Ukraine Rescue new information: 👇\\n24-hour  (Phone/Text):\\n+1 720-657-6776 \\n+1 719-224-4232\\n+48 508-532-712 \\n+48 508-531-518\\n\\nTelegram: https://t.co/Jpl5F0YUgh\\n\\nGETTR: https://t.co/dtqWqONEHr\\nEmail \\nUkraineRescue01@protonmail.com UkraineRescue02@protonmail.com https://t.co/ujAFGxTXfp', 'user_id': 2375882414, 'name': 'Sleepwalk No More❗️', 'username': 'Ukrainik'}\n",
      "{'id': 1505408194608132097, 'text': '@ringtrick @CCosimus @GermanicusVac @AdamKinzinger Well too bad, Ukraine is gonna lose!', 'user_id': 2375882414, 'name': 'Sleepwalk No More❗️', 'username': 'Ukrainik'}\n",
      "{'id': 1505408194474090497, 'text': 'RT @stopwarTigray: Ethiopia &amp; Eritrea are planning for another round of full scale war on Tigray while the intl community focuses on Russia…', 'user_id': 2375882414, 'name': 'Sleepwalk No More❗️', 'username': 'Ukrainik'}\n",
      "{'id': 1505408194381815809, 'text': 'RT @SDyorin: #Ukraine continues to show the world its real face.\\nThe only thing that #Ukrainian militia is doing well is humiliating #loote…', 'user_id': 2375882414, 'name': 'Sleepwalk No More❗️', 'username': 'Ukrainik'}\n",
      "{'id': 1505408194192961543, 'text': '@CNN https://t.co/RxbmB4HA25', 'user_id': 2375882414, 'name': 'Sleepwalk No More❗️', 'username': 'Ukrainik'}\n",
      "{'id': 1505408194113323013, 'text': 'RT @HannaLiubakova: 11 employees of the Belarusian embassy left #Ukraine. The last employee crossed the border today at 9 am. This is quite…', 'user_id': 2375882414, 'name': 'Sleepwalk No More❗️', 'username': 'Ukrainik'}\n",
      "{'id': 1505408193098395658, 'text': 'RT @alexstubb: Putin achieves in three weeks:\\n\\n1. European Ukraine\\n\\n2. Isolated Russia\\n\\n3. United EU\\n\\n4. Enlarging EU\\n\\n5. Militarised EU\\n\\n6…', 'user_id': 2375882414, 'name': 'Sleepwalk No More❗️', 'username': 'Ukrainik'}\n",
      "{'id': 1505408192976723973, 'text': 'RT @OccupyDemocrats: BREAKING NEWS: In a major loss for Putin, NATO announces that it is sending an air defense system to Ukraine in order…', 'user_id': 2375882414, 'name': 'Sleepwalk No More❗️', 'username': 'Ukrainik'}\n",
      "{'id': 1505408192947183617, 'text': 'RT @KyivIndependent: AP: Mariupol police officer pleads for help from Biden, Macron in video post. \\n\\nOfficer Michail Vershnin, addressed th…', 'user_id': 2375882414, 'name': 'Sleepwalk No More❗️', 'username': 'Ukrainik'}\n",
      "{'id': 1505408192624447496, 'text': 'Putin appears at big rally as troops press attack in Ukraine - The Associated Press - en Español\\n\\nhttps://t.co/tWLK7DGmSG\\n\\n#UkraineNews\\n#UnitedKingdomOfGreatBritainAndNorthernLreland https://t.co/XIWNRwjAPX', 'user_id': 2375882414, 'name': 'Sleepwalk No More❗️', 'username': 'Ukrainik'}\n",
      "{'id': 1505408192246956033, 'text': 'RT @djrothkopf: In the past couple weeks, GOPers have:\\n--Called for energy sanctions, then blamed Biden for rising gas prices\\n--Voted again…', 'user_id': 2375882414, 'name': 'Sleepwalk No More❗️', 'username': 'Ukrainik'}\n",
      "{'id': 1505408192091549700, 'text': 'RT @KyivIndependent: ⚡️Air raid alerts go off in almost every region of Ukraine.\\xa0\\n\\nSirens have been activated in the Sumy, Mykolaiv, Ternop…', 'user_id': 2375882414, 'name': 'Sleepwalk No More❗️', 'username': 'Ukrainik'}\n"
     ]
    }
   ],
   "source": [
    "results = []\n",
    "\n",
    "if not tweet_data is None and len(tweet_data) > 0: \n",
    "    for tweet in tweet_data: \n",
    "        twt = client.get_tweet(id, expansions = ['author_id'], user_fields = ['username'])\n",
    "        obj = {}\n",
    "        obj['id'] = tweet.id\n",
    "        obj['text'] = tweet.text\n",
    "        obj['user_id'] = twt.includes['users'][0].id\n",
    "        obj['name'] = twt.includes['users'][0].name\n",
    "        obj['username'] = twt.includes['users'][0].username\n",
    "        results.append(obj)\n",
    "     \n",
    "for tweet in results:\n",
    "    print(tweet)\n",
    "    \n",
    "#tweet.id, tweet.text"
   ]
  },
  {
   "cell_type": "code",
   "execution_count": 95,
   "id": "a6e2edda",
   "metadata": {},
   "outputs": [
    {
     "name": "stdout",
     "output_type": "stream",
     "text": [
      "RT @TimothyDSnyder: Ukrainian celebrities are dying at the front. American celebrities, please use your platforms to make it clear that Rus…\n"
     ]
    },
    {
     "ename": "TypeError",
     "evalue": "tuple indices must be integers or slices, not str",
     "output_type": "error",
     "traceback": [
      "\u001b[0;31m---------------------------------------------------------------------------\u001b[0m",
      "\u001b[0;31mTypeError\u001b[0m                                 Traceback (most recent call last)",
      "\u001b[0;32m<ipython-input-95-28113ee7cff4>\u001b[0m in \u001b[0;36m<module>\u001b[0;34m\u001b[0m\n\u001b[1;32m      2\u001b[0m \u001b[0mtweet\u001b[0m \u001b[0;34m=\u001b[0m \u001b[0mclient\u001b[0m\u001b[0;34m.\u001b[0m\u001b[0mget_tweet\u001b[0m\u001b[0;34m(\u001b[0m\u001b[0mid\u001b[0m\u001b[0;34m,\u001b[0m \u001b[0mexpansions\u001b[0m \u001b[0;34m=\u001b[0m \u001b[0;34m[\u001b[0m\u001b[0;34m'author_id'\u001b[0m\u001b[0;34m]\u001b[0m\u001b[0;34m,\u001b[0m \u001b[0muser_fields\u001b[0m \u001b[0;34m=\u001b[0m \u001b[0;34m[\u001b[0m\u001b[0;34m'username'\u001b[0m\u001b[0;34m]\u001b[0m\u001b[0;34m)\u001b[0m\u001b[0;34m\u001b[0m\u001b[0;34m\u001b[0m\u001b[0m\n\u001b[1;32m      3\u001b[0m \u001b[0mprint\u001b[0m\u001b[0;34m(\u001b[0m\u001b[0mtweet\u001b[0m\u001b[0;34m[\u001b[0m\u001b[0;36m0\u001b[0m\u001b[0;34m]\u001b[0m\u001b[0;34m)\u001b[0m\u001b[0;34m\u001b[0m\u001b[0;34m\u001b[0m\u001b[0m\n\u001b[0;32m----> 4\u001b[0;31m \u001b[0mprint\u001b[0m\u001b[0;34m(\u001b[0m\u001b[0mtweet\u001b[0m\u001b[0;34m[\u001b[0m\u001b[0;34m'text'\u001b[0m\u001b[0;34m]\u001b[0m\u001b[0;34m)\u001b[0m\u001b[0;34m\u001b[0m\u001b[0;34m\u001b[0m\u001b[0m\n\u001b[0m\u001b[1;32m      5\u001b[0m \u001b[0mprint\u001b[0m\u001b[0;34m(\u001b[0m\u001b[0mtweet\u001b[0m\u001b[0;34m.\u001b[0m\u001b[0mincludes\u001b[0m\u001b[0;34m[\u001b[0m\u001b[0;34m'users'\u001b[0m\u001b[0;34m]\u001b[0m\u001b[0;34m[\u001b[0m\u001b[0;36m0\u001b[0m\u001b[0;34m]\u001b[0m\u001b[0;34m.\u001b[0m\u001b[0mid\u001b[0m\u001b[0;34m)\u001b[0m\u001b[0;34m\u001b[0m\u001b[0;34m\u001b[0m\u001b[0m\n\u001b[1;32m      6\u001b[0m \u001b[0mprint\u001b[0m\u001b[0;34m(\u001b[0m\u001b[0mtweet\u001b[0m\u001b[0;34m.\u001b[0m\u001b[0mincludes\u001b[0m\u001b[0;34m[\u001b[0m\u001b[0;34m'users'\u001b[0m\u001b[0;34m]\u001b[0m\u001b[0;34m[\u001b[0m\u001b[0;36m0\u001b[0m\u001b[0;34m]\u001b[0m\u001b[0;34m.\u001b[0m\u001b[0mname\u001b[0m\u001b[0;34m)\u001b[0m\u001b[0;34m\u001b[0m\u001b[0;34m\u001b[0m\u001b[0m\n",
      "\u001b[0;31mTypeError\u001b[0m: tuple indices must be integers or slices, not str"
     ]
    }
   ],
   "source": [
    "id = results[0]['id']\n",
    "tweet = client.get_tweet(id, expansions = ['author_id'], user_fields = ['username'])\n",
    "print(tweet[0])\n",
    "print(tweet['text'])\n",
    "print(tweet.includes['users'][0].id)\n",
    "print(tweet.includes['users'][0].name)\n",
    "print(tweet.includes['users'][0].username)\n",
    "print(tweet)"
   ]
  },
  {
   "cell_type": "code",
   "execution_count": 81,
   "id": "68337c87",
   "metadata": {
    "scrolled": true
   },
   "outputs": [
    {
     "data": {
      "text/plain": [
       "1505371991892709381"
      ]
     },
     "execution_count": 81,
     "metadata": {},
     "output_type": "execute_result"
    }
   ],
   "source": [
    "results[0]['id']"
   ]
  },
  {
   "cell_type": "code",
   "execution_count": 110,
   "id": "9a552f06",
   "metadata": {},
   "outputs": [],
   "source": [
    "df = pd.DataFrame(tweet_data) \n",
    "df.to_csv('tweets4.csv')"
   ]
  },
  {
   "cell_type": "code",
   "execution_count": null,
   "id": "dce33728",
   "metadata": {},
   "outputs": [],
   "source": []
  }
 ],
 "metadata": {
  "kernelspec": {
   "display_name": "Python 3",
   "language": "python",
   "name": "python3"
  },
  "language_info": {
   "codemirror_mode": {
    "name": "ipython",
    "version": 3
   },
   "file_extension": ".py",
   "mimetype": "text/x-python",
   "name": "python",
   "nbconvert_exporter": "python",
   "pygments_lexer": "ipython3",
   "version": "3.8.8"
  }
 },
 "nbformat": 4,
 "nbformat_minor": 5
}
