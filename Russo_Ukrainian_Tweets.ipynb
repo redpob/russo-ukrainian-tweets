{
 "cells": [
  {
   "cell_type": "code",
   "execution_count": 3,
   "id": "fa2d527d",
   "metadata": {},
   "outputs": [],
   "source": [
    "import csv\n",
    "import tweepy\n",
    "import pandas as pd  \n",
    "\n",
    "bearer_token = 'AAAAAAAAAAAAAAAAAAAAAFGpaQEAAAAA8rHDnJmSDM52Zc8bsFCSF99Fuqc%3DKHjzrscr64ik2ABo6pY300yIn8qJ2mUFDwdzTGf4yQlJ6x54wU'\n",
    "consumer_key = 'AYtGAram3RFQjQMC2IW05nBwa'\n",
    "consumer_secret = 'vxTYmxvTgUEF2wmFYtnNi3XqT0Oh1DaJMcXa9CAX5EG9YFIcTU'\n",
    "access_token = '1505296286454493189-kuQXanTRDOVQoUXEPHhGjFOlAOXCYP'\n",
    "access_token_secret = 'pFxAJ9bWizKNuzce29NY697ldS6KrgIOLaJ7svhgNsFYH'\n",
    "\n",
    "client = tweepy.Client(bearer_token = bearer_token, \n",
    "                       consumer_key = consumer_key, \n",
    "                        consumer_secret = consumer_secret, \n",
    "                        access_token = access_token, \n",
    "                        access_token_secret = access_token_secret)"
   ]
  },
  {
   "cell_type": "code",
   "execution_count": 43,
   "id": "6f4cc11f",
   "metadata": {
    "scrolled": true
   },
   "outputs": [],
   "source": [
    "tweet_data = client.search_recent_tweets(query = \"ukraine\", max_results = 100).data"
   ]
  },
  {
   "cell_type": "code",
   "execution_count": 44,
   "id": "b21c0be8",
   "metadata": {
    "scrolled": true
   },
   "outputs": [
    {
     "name": "stdout",
     "output_type": "stream",
     "text": [
      "{'id': 1505470767747801090, 'text': \"RT @KyivIndependent: ⚡️Finance minister: Ukraine's economy down by third. \\n\\nAbout 30% of Ukraine’s economy “stopped functioning” since the…\"}\n",
      "{'id': 1505470766996930561, 'text': '@tlnue @Tondern2 Die Krim war russisch, bis die UDSSR sie an die Ukraine verschenkte und das ist noch nicht 99 Jahre her.\\nAlso keine zugewanderte Bevölkerung.\\n\\nSpielt die ethnische Zugehörigkeit eine Rolle?\\n\\nWürden die Regierungen wegen Gebieten um die Bevölkerung buhlen?\\n\\nWer ist der Souverän?'}\n",
      "{'id': 1505470766967627778, 'text': 'RT @JohnTwelvetrees: Since Russia invaded Ukraine both Carrie Johnson, who co- founded Conservative Friends of Russia, and Dominic Cummings…'}\n",
      "{'id': 1505470766896365568, 'text': 'RT @Youblacksoul: Look at the face of this young boy. What he have done? Refuse to kill or die? Was caught stealing food? Was just wanderin…'}\n",
      "{'id': 1505470766892023810, 'text': 'RT @SenatorHagerty: This historic inflation is a direct result of President Biden and Democrats’ big-government spending and policies—not P…'}\n",
      "{'id': 1505470766581702657, 'text': 'RT @MareOM_ONG: Our #presale is OPEN for everyone ! \\n\\nMax buy 10 #EGLD  / wallet !\\n\\nOur official website is \\n\\nhttps://t.co/EyBQhz2mNo\\n\\nSTAY…'}\n",
      "{'id': 1505470766481133569, 'text': 'RT @olya_rudenko: Many Russians (70%, according to non-government surveys) support the war against Ukraine. \\n\\nInvading Ukraine takes many t…'}\n",
      "{'id': 1505470766422409219, 'text': 'RT @R_A_Ziemkiewicz: „Gdy wielki wielkiego / dusić będzie, my duśmy mniejszych - każdy swego”, radził Gerwazy. Rosja próbuje podbić Ukrainę…'}\n",
      "{'id': 1505470766355300353, 'text': 'Les agro-industriels de la FNSEA profitent de la guerre en Ukraine pour tenter de sortir du programme européen \"Farm to fork\" (programme environnemental agricole de l\\'UE)\\nhttps://t.co/ZjyaRL497N'}\n",
      "{'id': 1505470766170656769, 'text': 'RT @haintz_markus: Wahrheit oder Satire? Der Komiker #Zelensky am am 12.10.2014 im ukrainischen Fernsehen. Über Nazis, #Bandera, Hitler, Ob…'}\n",
      "{'id': 1505470765986205696, 'text': 'RT @Kateryna_Kruk: Motherhood.\\nUkraine, Europe, 2022 https://t.co/LGyG6pIbBM'}\n",
      "{'id': 1505470765914894337, 'text': 'RT @HarryYorke1: EXCLUSIVE: PM attended a secret Tory fundraising dinner attended by at least one donor with Russian links on the night Put…'}\n",
      "{'id': 1505470765898117120, 'text': 'RT @WHO: \"Peace is the only solution – in Ukraine, Yemen, Afghanistan and Ethiopia.\"-@DrTedros'}\n",
      "{'id': 1505470765893890049, 'text': '@strategywoman I planted a cherry tree yesterday in my garden… a young tree.. my hope is that as it blossoms and grows and reaches for the sun  so too will Ukraine blossom and grow again'}\n",
      "{'id': 1505470765268975620, 'text': \"RT @CerfiaFR: 🇫🇷🇺🇦 FLASH | La #France va débloquer 300 millions d'euros afin de venir en aide à l'#Ukraine.\\n\\n(Min. Affaires étrangères) #Uk…\"}\n",
      "{'id': 1505470765197856769, 'text': 'The Support for Ukraine messages can now be found in-game! (via @m4tonoob &amp; @HappyPower) https://t.co/Gm4kyd0esq'}\n",
      "{'id': 1505470764992057344, 'text': 'RT @GhostFaceDrizzy: We. Gave. Ukraine. 13.6. BILLION. In. Aid. … but we have people struggling to pay for gas, rent, mortgage and or find…'}\n",
      "{'id': 1505470764992000003, 'text': 'RT @CalibreObscura: #Ukraine: TDF fighters making a technical from a UAZ Jeep and a captured PKT machine gun. https://t.co/1WCYGsa4GF'}\n",
      "{'id': 1505470764866281475, 'text': 'RT @alexstubb: Putin achieves in three weeks:\\n\\n1. European Ukraine\\n\\n2. Isolated Russia\\n\\n3. United EU\\n\\n4. Enlarging EU\\n\\n5. Militarised EU\\n\\n6…'}\n",
      "{'id': 1505470764794982402, 'text': 'RT @EricMMatheny: “Ten percent for the Big Guy” cannot be ignored. What are Biden’s financial ties to Ukraine? Are his personal dealings wi…'}\n",
      "{'id': 1505470764778143747, 'text': '⭐ على عكس ما تدعيه وسائل الإعلام الغربية وقناة الجزيرة الموالية للصهيونية ... فإن جنود #المسلمين #الشيشان و #القوات_الروسية يبذلون قصارى جهدهم لإيواء المدنيين في مناطق القتال و من الجيش الأوكراني #جرذان ...\\n\\n#كذب_وسائل_الإعلام_الغربية \\n#UkraineRussiaWar #Ukraine https://t.co/xjWsYfOeeX'}\n",
      "{'id': 1505470764409147392, 'text': 'RT @leedurant: Sunset over St Sophia’s Cathedral #Kyiv as smoke rises over the outskirts of the city. #Ukraine https://t.co/kpyhFc0rY1'}\n",
      "{'id': 1505470763989622786, 'text': 'RT @rommari: A lot of you have been asking me how you can help Ukraine financially. This hospital is treating soldiers and their kids. At t…'}\n",
      "{'id': 1505470763926757377, 'text': 'RT @olgatokariuk: Day 25 of Ukraine resistance. As Russian ground offensive is repelled by Ukrainian forces, the bombing of civilians conti…'}\n",
      "{'id': 1505470763503177737, 'text': 'RT @TimothyDSnyder: Ukrainian celebrities are dying at the front. American celebrities, please use your platforms to make it clear that Rus…'}\n",
      "{'id': 1505470763473776640, 'text': \"RT @sergiodde: Thread important qui explique pourquoi Poutine devait entrer en guerre contre l'Ukraine, donc contre l'OTAN.\\nDr Francis Boyl…\"}\n",
      "{'id': 1505470763473768455, 'text': 'RT @MarinaPurkiss: Someone tell that prick Johnson…\\n\\nThat the only similarity between Putin’s invasion of Ukraine and Brexit \\n\\nIs that Puti…'}\n",
      "{'id': 1505470763352178688, 'text': 'RT @Kateryna_Kruk: Motherhood.\\nUkraine, Europe, 2022 https://t.co/LGyG6pIbBM'}\n",
      "{'id': 1505470763209728000, 'text': 'RT @ReutersJapan: ロシア軍、「住民数千人を連行」とマリウポリ市当局 https://t.co/crKtoN3CZc'}\n",
      "{'id': 1505470763100356612, 'text': \"RT @democraticbear: Appears that Putin if following in Stalin's footsteps.\\n\\nhttps://t.co/dvn4vAf8pL\"}\n",
      "{'id': 1505470763058479111, 'text': 'Guerre en Ukraine : Boris Johnson ne veut plus normaliser les relations avec Poutine https://t.co/ZYa7eLUVBg'}\n",
      "{'id': 1505470762962108418, 'text': 'RT @henkdevo: Putin Made a Profound Miscalculation on Ukraine https://t.co/G2YDGK7Hcg'}\n",
      "{'id': 1505470762815209485, 'text': 'RT @KatyJayne101: Donald Tusk was bang on with this summary of Boris Johnson\\'s comparison of Ukraine to Brexit,\\n\\n\"Your words offend Ukraini…'}\n",
      "{'id': 1505470762806919169, 'text': 'RT @carolecadwalla: Saturday, March 19, 2022. MasterInvestor conference, London.\\n\\nJim Mellon, LeaveEU donor, &amp; ex-business partner of Arron…'}\n",
      "{'id': 1505470761967882241, 'text': 'We can’t be 100% certain what started the war in Ukraine as we can’t trust the media. \\nBe wary of any governments, any media sources and any dominant narrative.'}\n",
      "{'id': 1505470761871593475, 'text': \"@MoadabJ Ha non mais de mon point de vue c'était une merde. Mais je suis pas un Ukrainien qui ait vécu sous l'Union Soviétique. C'est pas que je relativise la merde que c'était, c'est que j'arrive à comprendre pourquoi certains en Ukraine l'aiment bien.\"}\n",
      "{'id': 1505470761670164483, 'text': 'RT @lesiavasylenko: No, neutrality is not possible. No, #Ukraine cannot make concessions. Nor should it ever be asked to. Instead of fantas…'}\n",
      "{'id': 1505470761334902786, 'text': 'RT @flagnetwork_NFT: 🕊️The #FlagNetwork Charity Foundation would like to announce an event to support the people of Ukraine\\n\\n🎁Total budget:…'}\n",
      "{'id': 1505470761305317378, 'text': 'RT @Tildys: @demvoice1 The Senators who voted AGAINST sending aid to #Ukraine 🔵🟡\\nSee your Senator here? Tell them what you think about this…'}\n",
      "{'id': 1505470761057849344, 'text': 'RT @Femi_Sorry: Boris Johnson likened those fighting for freedom in Ukraine to Brexit voters because he feeds off outrage.\\n\\nThe better ques…'}\n",
      "{'id': 1505470761024303110, 'text': 'RT @visegrad24: Belarusian railway workers today sabotaged the railway lines leading to Ukraine, making it impossible for the Russians to r…'}\n",
      "{'id': 1505470760676208642, 'text': 'RT @HAGnews2: 17 Mar Miles Guo\\nU.S is under no obligation to support Ukraine, but this time it fully supports it. \\n#biden gave weapons &amp; te…'}\n",
      "{'id': 1505470760382771200, 'text': 'Aljazeeraをたまに見るけど、ウクライナ情勢の呼び方が、invationからUkraine-Russia Warになり、今日観たらUkraine Warになっていた。後世では「ウクライナ戦争」って呼ばれるのかな。。'}\n",
      "{'id': 1505470760294490114, 'text': '@SureshS17353123 What on earth does this have to do with Ukraine?\\n\\nIts not top trumps'}\n",
      "{'id': 1505470760206450692, 'text': 'RT @POLITICOEurope: OPINION: Europe’s support for Ukraine has come up against the one limit that won’t budge — a limited tolerance for pain…'}\n",
      "{'id': 1505470759707328512, 'text': 'RT @Kateryna_Kruk: Motherhood.\\nUkraine, Europe, 2022 https://t.co/LGyG6pIbBM'}\n",
      "{'id': 1505470759694745604, 'text': \"RT @spudcambs: @carlbildt At least Boris, as UK Prime Minister, is not funding Putin's war on Ukraine, @carlbildt! https://t.co/N9W4Dw7L7q\"}\n",
      "{'id': 1505470759275319298, 'text': 'RT @frediejustine: .. Leo niko Off, nna shughuli Maalum ya kumpokea KAKA hapa MACHAME, hata niskie ikulu ya Ukraine imepigwa Bomu na mute.…'}\n",
      "{'id': 1505470759120027649, 'text': 'RT @EU_Commission: The current Russian aggression against Ukraine reminds the world about the importance of independent and pluralistic med…'}\n",
      "{'id': 1505470758960701440, 'text': 'RT @BBCNews: Ukraine war: Boris Johnson sparks fury after comparison to Brexit https://t.co/vDBlH89Xfj'}\n",
      "{'id': 1505470758788734982, 'text': \"RT @iainmartin1: Genuinely don't understand the Prime Minister comparing Ukrainian battle for national survival to Brexit. This is an extra…\"}\n",
      "{'id': 1505470758612574210, 'text': '@dadimakesmusic You could spread awareness among your fans about the war in Ukraine and maybe donate something to @BackAndAlive? 🥺'}\n",
      "{'id': 1505470758587453440, 'text': 'RT @EuromaidanPress: Several small anti-war protests took place in occupied Crimea amid a conscription campaign, which constitutes a war cr…'}\n",
      "{'id': 1505470758570852353, 'text': 'RT @IAPonomarenko: “Ukrainian forces have defeated the initial Russian campaign of this war,” @TheStudyofWar writes.\\n“That campaign aimed t…'}\n",
      "{'id': 1505470758470004736, 'text': 'RT @f_philippot: Voir Bush (Afghanistan, Irak) et Clinton (Yougoslavie, Kosovo, élargissement de l’OTAN) «\\xa0déposer des fleurs pour l’Ukrain…'}\n",
      "{'id': 1505470758398660609, 'text': 'RT @RWApodcast: So has anyone mentioned that Zelensky just banned all opposition parties in Ukraine through the National Security and Defen…'}\n",
      "{'id': 1505470757916364800, 'text': 'RT @leloveluck: \"This is insane. Just insane.\" @GebeilyM reports on devastating ripple effects from Russian invasion of Ukraine. As wheat p…'}\n",
      "{'id': 1505470757694066690, 'text': '|🇷🇺⚔️🇺🇦| The consequences of the Russian attacks on Mariupol.\\n\\n🇧🇷 - Consequências dos ataques russos em Mauripol.\\n\\n#UkraineRussianWar #Mariupol #StandWithUkraine #Ukraine #UkraineRussiaWar #Ucraina https://t.co/5VcQ4ka70k'}\n",
      "{'id': 1505470757576622086, 'text': \"RT @m_suchkov: ⚡#Russia/n Aerospace Forces air-launched high-precision missiles on the training center of #Ukraine's Special Operation Forc…\"}\n",
      "{'id': 1505470757433974784, 'text': 'RT @carolecadwalla: Saturday, March 19, 2022. MasterInvestor conference, London.\\n\\nJim Mellon, LeaveEU donor, &amp; ex-business partner of Arron…'}\n",
      "{'id': 1505470757186736129, 'text': '@andersostlund Am I a victim of Propaganda or am I correct in thinking Ukraine won this week?'}\n",
      "{'id': 1505470757161340937, 'text': 'RT @PresseMondial: 2) pouvez retracer tout le parcours de ce canon particulier, grâce à la ponctualité allemande.\" 🧐 #Russie #Ukraine #Pout…'}\n",
      "{'id': 1505470756574359553, 'text': 'RT @ShashiTharoor: #Ukraine &amp; Russia account for nearly 30% of the world’s wheat, 17% of corn and over half of sunflower seed oil exports.…'}\n",
      "{'id': 1505470756523843584, 'text': 'RT @AmbassadorEstif: The influence of geo-politics in nomenclature of #Eritrea #Ethiopia: Do you remember Colonel Mengistu of Ethiopia….get…'}\n",
      "{'id': 1505470756255408130, 'text': 'RT @olex_scherba: Deputy commander of #Russia’s Black Sea Fleet Andrey Paliy ain’t coming home from #Ukraine.\\n\\n#StandWithUkriane #RussiaInv…'}\n",
      "{'id': 1505470756217446403, 'text': 'RT @FortniteNewsC3: Support for Ukraine messages are now ingame visible! \\n\\n#Fortnite #FortniteNews #FortniteSeason2 \\nPic @m4tonoob https://…'}\n",
      "{'id': 1505470756142166021, 'text': \"RT @guyverhofstadt: Johnson's comparaison of the courageous fight of Ukraine with Brexit is insane…\\n\\nBrexit was about undoing freedoms and…\"}\n",
      "{'id': 1505470756024733697, 'text': 'RT @TrentTelenko: Between the end of April and Mid-May 2022, the Ukrainian Army will be able to counter-attack EVERYWHERE.\\n\\nBecause there w…'}\n",
      "{'id': 1505470756012150785, 'text': 'RT @Reuters: Some Syrian veterans ready for Ukraine fight, commanders say https://t.co/huGRgIp3Cr https://t.co/rBrIxTIkVP'}\n",
      "{'id': 1505470755802341376, 'text': '@MattGubba Don’t worry you can’t be as far right as the army the west is backing in the Ukraine.  \\nGood luck to all the non- aryan race people left after the conflict… although they’ve all probably been pushed to the frontline as shields. https://t.co/TpKaaELu0O'}\n",
      "{'id': 1505470755710148608, 'text': \"RT @tigre19_rdc: @amir_nourdine L'Ukraine ne comprend pas, tant mieux pour nous comme ça la guerre continue jusqu'à atteindre l'Europe tou…\"}\n",
      "{'id': 1505470755659788288, 'text': 'RT @JodiSAnne: Russian war crimes in Ukraine #Thermobaric'}\n",
      "{'id': 1505470755554967555, 'text': 'RT @mahleth27: Ethiopia &amp; Eritrea are planning for another round of full scale war on Tigray while the intl community focuses on Russia-Ukr…'}\n",
      "{'id': 1505470755298893824, 'text': 'RT @flagnetwork_NFT: 🕊️The #FlagNetwork Charity Foundation would like to announce an event to support the people of Ukraine\\n\\n🎁Total budget:…'}\n",
      "{'id': 1505470755244544001, 'text': 'RT @janboehm: Hey yo! Jeder Euro in Richtung Russland und Belarus bringt Menschen in der Ukraine um.'}\n",
      "{'id': 1505470755219570690, 'text': 'RT @WeRBernie: Opposing a proxy war between 2 former Soviet Union states; one of which, Ukraine, has the Neo-Nazi Azov Battalion, is not sh…'}\n",
      "{'id': 1505470754686652419, 'text': 'RT @Liveuamap: Video: Russian army airborne troops unit was destroyed \\nhttps://t.co/roXgjLp7kZ \\nhttps://t.co/UxnIEBSJab via @Armia_fm #Ukra…'}\n",
      "{'id': 1505470754409824256, 'text': 'RT @MattTheo_: Support Ukraine Message visible in game for real money purchases.\\n\\n(thanks to @m4tonoob &amp; @xLOLxLOLxIRAJx) https://t.co/QEs2…'}\n",
      "{'id': 1505470754191724546, 'text': 'RT @GicAriana: Russian forces have totally destroyed one of Europe\\'s largest in metallurgical plants #Azovstal in #Mariupol. \\n\\n\"It\\'s imposs…'}\n",
      "{'id': 1505470754078474248, 'text': 'RT @HarryYorke1: EXCLUSIVE: PM attended a secret Tory fundraising dinner attended by at least one donor with Russian links on the night Put…'}\n",
      "{'id': 1505470754036539394, 'text': 'RT @visegrad24: Australia has banned exports of aluminium ores to Russia over its invasion of Ukraine.\\n\\nThe new expanded sanctions package…'}\n",
      "{'id': 1505470753831104512, 'text': 'RT @ronzheimer: Jetzt wieder live bei @bild TV über die Situation in Kyiv und der gesamten Ukraine. https://t.co/4BNNVSrCz0'}\n",
      "{'id': 1505470753529020417, 'text': '@RussianEmbassy @mfa_russia прокинься в росії.  1 чоловік маленький Путін вбивця дітей вбиває власних братів і сестер.  Він став убивцею. Help Ukraine'}\n",
      "{'id': 1505470753336139780, 'text': 'RT @UAWeapons: #Ukraine: Ukrainian artillery fire hit a Russian rear position, resulting in damage to several supply trucks. \\n\\nHowever, it…'}\n",
      "{'id': 1505470753294196740, 'text': 'RT @_MarielMueller: With the world’s attention focused on Ukraine, a humanitarian crisis is unfolding in #Somalia. The country faces worst…'}\n",
      "{'id': 1505470752723714048, 'text': 'RT @campbellclaret: Yesterday @Jacob_Rees_Mogg said Ukraine reminded us politics was serious. Today Johnson reminded us we do not have a se…'}\n",
      "{'id': 1505470752434565120, 'text': 'Usa is successfully make his dollar unbeatable and ready to Flowing river of innocent blood by selling his arms to eu by provoking Nato ,Ukraine for Russia . Hell is going to take place in tha land where man could live happily'}\n",
      "{'id': 1505470752434253825, 'text': 'RT @AlexandruC4: BREAKING :  Ukraine army it sees a high risk of an attack from Belarus on western Volyn region'}\n",
      "{'id': 1505470752367251464, 'text': 'RT @thesiriusreport: The propagandised Ukraine war is ultimately going to result in the total implosion of the very western media which pro…'}\n",
      "{'id': 1505470752325181440, 'text': 'RT @UAWeapons: #Ukraine: Insane footage from a Ukrainian gunner of a BTR-4 APC during a raid on the Russian army in Mariupol. Apparently, a…'}\n",
      "{'id': 1505470752178515973, 'text': 'RT @TimothyDSnyder: When Putin says that there is no Ukrainian nation and no Ukrainian state, he means that he intends to destroy the Ukrai…'}\n",
      "{'id': 1505470752031662082, 'text': 'RT @slmiheso: @AmechokaPunda @BenjiNdolo @allanodera @mauriceoyamo @mari_mwangi @JoeOisebe @WaNduta8 @LariNdiwa @GaturuSalim @ciaroyalty @R…'}\n",
      "{'id': 1505470752006578184, 'text': 'RT @TimothyDSnyder: Ukrainian celebrities are dying at the front. American celebrities, please use your platforms to make it clear that Rus…'}\n",
      "{'id': 1505470751670943746, 'text': \"RT @FoxNews: US, allies accuse Russia of using UN Security Council to 'launder' disinformation on Ukraine\\nhttps://t.co/Ot8Nyh1Mrr\"}\n",
      "{'id': 1505470751557705730, 'text': 'RT @der_gerichtshof: Das „Twittergericht“ – Interview mit \\u2066@JuriosDE\\u2069 💙💛 https://t.co/ppqJju1klz'}\n",
      "{'id': 1505470751473745930, 'text': 'RT @KyivIndependent: ⚡️Russia claims Ukraine plans to attack Western diplomats in Lviv.\\n\\nRussia’s Defense Ministry spokesman Igor Konashenk…'}\n",
      "{'id': 1505470751419379718, 'text': 'RT @JohnJCrace: What would it take for Tory party to decide it has had enough of Johnson? So far he has broken the law, cosied up to oligar…'}\n",
      "{'id': 1505470751071252480, 'text': 'RT @CarFace_io: ❗️Aktywiści nadal blokują granicę Polsko-białoruską– od przedwczoraj nie przejechał przez nią ani jeden TIR z towarem jadąc…'}\n",
      "{'id': 1505470750211416065, 'text': 'Physicians in Ukraine: Caring for Patients in the Middle of a\\xa0War https://t.co/gFyhrpITjJ'}\n",
      "{'id': 1505470750194610179, 'text': 'RT @Mearg1234: While the world is busy with saving Ukraine, Ethiopia, Eritrea and their allies are wrapping up their preparation for their…'}\n"
     ]
    }
   ],
   "source": [
    "results = []\n",
    "\n",
    "if not tweet_data is None and len(tweet_data) > 0: \n",
    "    for tweet in tweet_data: \n",
    "        twt = client.get_tweet(tweet.id, expansions = ['author_id'], user_fields = ['username'])\n",
    "        obj = {}\n",
    "        obj['id'] = tweet.id\n",
    "        obj['text'] = tweet.text\n",
    "        #obj['user_id'] = twt.includes['users'][0].id\n",
    "        #obj['name'] = twt.includes['users'][0].name\n",
    "        #obj['username'] = twt.includes['users'][0].username\n",
    "        results.append(obj)\n",
    "     \n",
    "for tweet in results:\n",
    "    print(tweet)\n",
    "    \n",
    "#tweet.id, tweet.text"
   ]
  },
  {
   "cell_type": "code",
   "execution_count": 20,
   "id": "a6e2edda",
   "metadata": {},
   "outputs": [
    {
     "name": "stdout",
     "output_type": "stream",
     "text": [
      "RT @maria_avdv: Today’s footage from Piatykhatky, Kharkiv. Here the Institute of Physics and Technology neutron source facility is located,…\n",
      "2402291900\n",
      "Suziesnoozie\n",
      "Suzieismymum\n",
      "Response(data=<Tweet id=1505418422783385600 text='RT @maria_avdv: Today’s footage from Piatykhatky, Kharkiv. Here the Institute of Physics and Technology neutron source facility is located,…'>, includes={'users': [<User id=2402291900 name=Suziesnoozie username=Suzieismymum>]}, errors=[], meta={})\n"
     ]
    }
   ],
   "source": [
    "id = results[0]['id']\n",
    "tweet = client.get_tweet(id, expansions = ['author_id'], user_fields = ['username'])\n",
    "print(tweet[0])\n",
    "print(tweet.includes['users'][0].id)\n",
    "print(tweet.includes['users'][0].name)\n",
    "print(tweet.includes['users'][0].username)\n",
    "print(tweet)"
   ]
  },
  {
   "cell_type": "code",
   "execution_count": 11,
   "id": "68337c87",
   "metadata": {
    "scrolled": true
   },
   "outputs": [
    {
     "data": {
      "text/plain": [
       "1505412143994310656"
      ]
     },
     "execution_count": 11,
     "metadata": {},
     "output_type": "execute_result"
    }
   ],
   "source": [
    "results[0]['id']"
   ]
  },
  {
   "cell_type": "code",
   "execution_count": 45,
   "id": "9a552f06",
   "metadata": {},
   "outputs": [],
   "source": [
    "df = pd.DataFrame(tweet_data) \n",
    "df.to_csv('tweets10.csv')"
   ]
  },
  {
   "cell_type": "code",
   "execution_count": null,
   "id": "dce33728",
   "metadata": {},
   "outputs": [],
   "source": []
  }
 ],
 "metadata": {
  "kernelspec": {
   "display_name": "Python 3",
   "language": "python",
   "name": "python3"
  },
  "language_info": {
   "codemirror_mode": {
    "name": "ipython",
    "version": 3
   },
   "file_extension": ".py",
   "mimetype": "text/x-python",
   "name": "python",
   "nbconvert_exporter": "python",
   "pygments_lexer": "ipython3",
   "version": "3.8.8"
  }
 },
 "nbformat": 4,
 "nbformat_minor": 5
}
