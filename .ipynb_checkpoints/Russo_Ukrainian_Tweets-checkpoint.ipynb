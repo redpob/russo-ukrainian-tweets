{
 "cells": [
  {
   "cell_type": "code",
   "execution_count": 3,
   "id": "fa2d527d",
   "metadata": {},
   "outputs": [],
   "source": [
    "import csv\n",
    "import tweepy\n",
    "import pandas as pd  \n",
    "\n",
    "bearer_token = 'AAAAAAAAAAAAAAAAAAAAAFGpaQEAAAAA8rHDnJmSDM52Zc8bsFCSF99Fuqc%3DKHjzrscr64ik2ABo6pY300yIn8qJ2mUFDwdzTGf4yQlJ6x54wU'\n",
    "consumer_key = 'AYtGAram3RFQjQMC2IW05nBwa'\n",
    "consumer_secret = 'vxTYmxvTgUEF2wmFYtnNi3XqT0Oh1DaJMcXa9CAX5EG9YFIcTU'\n",
    "access_token = '1505296286454493189-kuQXanTRDOVQoUXEPHhGjFOlAOXCYP'\n",
    "access_token_secret = 'pFxAJ9bWizKNuzce29NY697ldS6KrgIOLaJ7svhgNsFYH'\n",
    "\n",
    "client = tweepy.Client(bearer_token = bearer_token, \n",
    "                       consumer_key = consumer_key, \n",
    "                        consumer_secret = consumer_secret, \n",
    "                        access_token = access_token, \n",
    "                        access_token_secret = access_token_secret)"
   ]
  },
  {
   "cell_type": "code",
   "execution_count": 4,
   "id": "6f4cc11f",
   "metadata": {},
   "outputs": [],
   "source": [
    "tweet_data = client.search_recent_tweets(query = \"ukraine\", max_results = 100).data"
   ]
  },
  {
   "cell_type": "code",
   "execution_count": 7,
   "id": "b21c0be8",
   "metadata": {
    "scrolled": true
   },
   "outputs": [
    {
     "name": "stdout",
     "output_type": "stream",
     "text": [
      "{'id': 1505412143994310656, 'text': \"RT @EliotHiggins: Nothing says more about the crass brutality of Putin's war in Ukraine than this satellite image of the bombed remains of…\", 'user_id': 1374531882, 'name': 'P🌹🗡', 'username': 'stnstw28'}\n",
      "{'id': 1505412143591481344, 'text': 'RT @AP: @AP Researchers tracking only those Russian equipment losses that were photographed or recorded on video say Russia has lost more t…', 'user_id': 714709633827471360, 'name': 'Gerard Garcia #VoteBlue #LetLeniLead #WearAMask', 'username': 'garciagerard320'}\n",
      "{'id': 1505412143570722817, 'text': 'RT @DavidYankovich: “The fact is, I’ve gone head to head with Putin and made it clear we’re not going to take any of his stuff.”- @JoeBiden…', 'user_id': 886957853285781504, 'name': 'ellen catsz', 'username': 'catsz22'}\n",
      "{'id': 1505412143394394113, 'text': \"RT @StopVladdyDaddy: Russia reportedly violates another ceasefire as civilians flee; U.S. says up to 4,000 of Putin's soldiers have been ki…\", 'user_id': 1232873154156126221, 'name': 'Lxrdly', 'username': 'thatlxrdlyguy'}\n",
      "{'id': 1505412141721038849, 'text': 'RT @thebradfordfile: Is it just me, or is Joe Biden sending cash to Ukraine because Ukraine was sending cash to Hunter?', 'user_id': 1431495782205644800, 'name': 'Ellen Kivler', 'username': 'kattiegirl'}\n",
      "{'id': 1505412141620338692, 'text': \"RT @SamRamani2: BREAKING: Britain rules out a post-Ukraine war normalization with Putin's Russia\", 'user_id': 2923534360, 'name': 'Sherry Dean 🌊', 'username': 'DeansherryS'}\n",
      "{'id': 1505412141519540228, 'text': 'RT @yangjianli001: The people of #Ukraine have shown the people of #Taiwan the vital importance of themselves standing up 2 aggressors.\\nAft…', 'user_id': 158835115, 'name': 'Michael Slater', 'username': 'mkslater'}\n",
      "{'id': 1505412141293088769, 'text': 'RT @OccupyDemocrats: BREAKING NEWS: In a MAJOR loss for Putin, the International Court of Justice rules that his invasion of Ukraine fits t…', 'user_id': 140272565, 'name': 'Jacquelyn Williams', 'username': 'shinjukumama'}\n",
      "{'id': 1505412140974604289, 'text': 'RT @spearsden: 「ＡＰが記録した死者の多くは、子どもと母親だが、ロシアは民間人は攻撃されていないと主張している」ＡＰマリウポリ報告\\u3000https://t.co/nSKz6hbOrQ', 'user_id': 120355358, 'name': 'KAWANISHI Yoji', 'username': 'miz10010'}\n",
      "{'id': 1505412140764889090, 'text': 'RT @alexstubb: Putin achieves in three weeks:\\n\\n1. European Ukraine\\n\\n2. Isolated Russia\\n\\n3. United EU\\n\\n4. Enlarging EU\\n\\n5. Militarised EU\\n\\n6…', 'user_id': 1005329334780022786, 'name': 'Vento', 'username': 'Vento48942037'}\n",
      "{'id': 1505412140424855554, 'text': \"@thesiriusreport That's great but doubt they have too many. And spending 5-10 million per rocket to hit a target not very sustainable on any scale.  Great for taking out very high value targets but not going change much, Ukraine forces too spread out.\", 'user_id': 4445568694, 'name': 'Robert Costescu', 'username': 'rcost1981'}\n",
      "{'id': 1505412139762483205, 'text': 'RT @Prithviraj_Nag: @AbhishBanerj Ukraine just banned all opposition political parties. Peak Liberalism…', 'user_id': 53022532, 'name': 'sandeep', 'username': 'badoni24'}\n",
      "{'id': 1505412139737137152, 'text': 'RT @TimothyDSnyder: Ukrainian celebrities are dying at the front. American celebrities, please use your platforms to make it clear that Rus…', 'user_id': 600744801, 'name': 'WhyUMad63♎', 'username': 'IstayMad63'}\n",
      "{'id': 1505412139409883138, 'text': 'RT @DSORennie: For China it is always, always about China. Ukraine and NATO and Russia are only a proxy for China’s resentment at Western “…', 'user_id': 52990523, 'name': 'SA-8 Gecko Respecter 🦎', 'username': 'Deconfliction'}\n",
      "{'id': 1505412139221241858, 'text': 'RT @dvillella: @SenTedCruz Putin was warned. Nevertheless, he persisted.\\n\\nhttps://t.co/KcnSRXZwe4 https://t.co/N65LBj8uuH', 'user_id': 1224143260073054210, 'name': 'Yuri Rivas', 'username': 'YuriRiv02558750'}\n",
      "{'id': 1505412138571120640, 'text': 'RT @BSBonner: Ukraine lives to fight another day, but so does Kremlin terror state: World, stop buying anything from Russia, disconnect the…', 'user_id': 1238474761090539522, 'name': 'WeAreStardust 🇺🇦🇺🇦🇺🇦FUCK PUTIN🇺🇦🇺🇦🇺🇦', 'username': 'TessaBlue18'}\n",
      "{'id': 1505412138428506116, 'text': 'RT @alexstubb: Putin achieves in three weeks:\\n\\n1. European Ukraine\\n\\n2. Isolated Russia\\n\\n3. United EU\\n\\n4. Enlarging EU\\n\\n5. Militarised EU\\n\\n6…', 'user_id': 343387567, 'name': 'Mick Scheinin', 'username': 'MickScheinin'}\n",
      "{'id': 1505412138210410497, 'text': 'RT @OccupyDemocrats: BREAKING NEWS: In a major loss for Putin, NATO announces that it is sending an air defense system to Ukraine in order…', 'user_id': 1313243732947263488, 'name': 'Faye Ameredes', 'username': 'FAmeredes'}\n",
      "{'id': 1505412138130710528, 'text': 'Mandy King          - March 18, 2022                                         As the war in Ukraine stretches on, it’s become increasingly clear to chief instigator Vladimir Putin and the rest of the world that the assault won’t produce the quick victory\\n\\nhttps://t.co/3zpmiLbt9X', 'user_id': 1503881422238470150, 'name': 'CloseTheSky.ca', 'username': 'Closethesky_ca'}\n",
      "{'id': 1505412137619009538, 'text': 'RT @McFaul: Putin will lose his unprovoked, senseless, inhumane war in Ukraine. The only unknowns are when and at what cost. The West must…', 'user_id': 37551358, 'name': 'Kathy', 'username': 'kef12345'}\n",
      "{'id': 1505412137568591872, 'text': 'RT @OccupyDemocrats: If you’re a Democrat who is thrilled that, in a major loss for Putin, NATO just announced that it is sending an air de…', 'user_id': 1361460858879172612, 'name': '🇺🇦 Khaleesi, Mother of Labradors', 'username': 'tabithatibbins'}\n",
      "{'id': 1505412137312989184, 'text': '#Ukraine ：ウクライナ軍によるFGM-148ジャベリン対戦車ミサイルシステムの実際の戦闘使用のまれな映像。 https://t.co/pPqNZn7d90', 'user_id': 351458324, 'name': 'Momokopapa', 'username': 'Momokopapa00'}\n",
      "{'id': 1505412136981381120, 'text': '@JoeJSaltarelli The invasion of Iraq is nothing like ukraine.  Unless you want to create a category called invasions. The US carpet bombed cities and used illegal white phosphorus on civilians. All based on lies. The US wasnt sanctioned. (Iraq was) It was applauded.', 'user_id': 1593401012, 'name': 'Ruweida Shakhshir', 'username': 'RshakhShakhshir'}\n",
      "{'id': 1505412136817803264, 'text': 'RT @American3141592: PSA: The political and military establishment, and the corrupt mainstream media are lying to you about Ukraine.\\n\\nhttps…', 'user_id': 460690447, 'name': 'Leroy Drum', 'username': 'Leakydrum'}\n",
      "{'id': 1505412136692068354, 'text': 'RT @Amstel20111: When my daughter got back home from Ukraine.\\nI am grateful to God and FGN, through all the agencies of government used for…', 'user_id': 1481561946478587906, 'name': 'Kevlar', 'username': 'Kevlar001'}\n",
      "{'id': 1505412136511627266, 'text': 'RT @TimothyDSnyder: When Putin says that there is no Ukrainian nation and no Ukrainian state, he means that he intends to destroy the Ukrai…', 'user_id': 966772709417017344, 'name': 'Erik Ehrling', 'username': 'erik_ehrling'}\n",
      "{'id': 1505412135706275840, 'text': 'RT @StopVladdyDaddy: ‘It’s either kill or be killed’: the South Americans going to fight in Ukraine https://t.co/qryABPl4rr', 'user_id': 1232873154156126221, 'name': 'Lxrdly', 'username': 'thatlxrdlyguy'}\n",
      "{'id': 1505412135588835329, 'text': 'RT @andersostlund: Belarusian railway workers sabotage a railroad in Belarus so hinder supplies to the Russian army in Ukraine. I guess the…', 'user_id': 1460796962366705668, 'name': 'Ellie Olree', 'username': 'EllieOlree'}\n",
      "{'id': 1505412135496601601, 'text': 'RT @FabianZuleeg: Unfortunately Boris Johnson shows times and times again that it is impossible for the EU to work with him constructively.…', 'user_id': 120206799, 'name': 'Sucha Hugh Jars #FBPE', 'username': 'Cruiser2222'}\n",
      "{'id': 1505412135005872129, 'text': '大聖堂の前はこんな感じ。賑やかでした。\\nWe stand with Ukraineを掲げる方々も。 https://t.co/9Llw6CVcXA', 'user_id': 2413729795, 'name': 'ミラノ', 'username': 'MilanoFeuille'}\n",
      "{'id': 1505412134947246083, 'text': '@RBReich You mean like when msnbc &amp; cnn lied to us about Russian collusion, or a phone to Ukraine, or covid?', 'user_id': 1420931392054177793, 'name': 'JPMotu', 'username': 'RealJPMotu'}\n",
      "{'id': 1505412134762594304, 'text': 'RT @sunsetrs: @davidfrum Ukraine has the most tolerant liberal nazi controlled military?', 'user_id': 367750490, 'name': 'Katalin Pota ☮️🌹💙🌱', 'username': 'katalin_pota'}\n",
      "{'id': 1505412134703755265, 'text': 'RT @Vesuvio_1209: ジョン・ボルトン元トランプ大統領顧問「バイデン大統領とNATOはウクライナ戦争に先立って大きな間違いを犯した」\\n👆これだけは言える。2020アメリカ大統領選挙でトランプを支持しなかったアメリカ人は『優秀』だった。\\n※トランプ政権なら確実にプー…', 'user_id': 1413454120627838984, 'name': 'Notintelli_Inc.', 'username': 'notintelli_inc'}\n",
      "{'id': 1505412133965639681, 'text': \"@JoeBiden #Zelenskiy Don't be a puppet of US and NATO. Love your people Save the country from ruin.Establish respectful neighborly relations with Russia.  Whatever happened is because of you.  The USAandNATO will only use Ukraine against Russia and enjoy it,but only Ukraine will be ruined.\", 'user_id': 1261115211471192064, 'name': '✊🙏 𝓝𝓮𝔁𝓽 𝓐𝓷𝓰𝓵𝓮 ☭', 'username': 'NextAngle'}\n",
      "{'id': 1505412133881790471, 'text': 'RT @TheStudyofWar: NEW: Ukrainian forces have defeated the initial #Russian campaign of this war. Its culmination is creating conditions of…', 'user_id': 324514038, 'name': '🌺 Александрова', 'username': 'alexsandrova888'}\n",
      "{'id': 1505412133722505217, 'text': 'RT @tanita_tikaram: Unbelievably, Johnson has trumped himself with this one 🥺.. how can you watch the horrors in Ukraine &amp; heroism of the U…', 'user_id': 236645748, 'name': 'MJP #NHSLove', 'username': 'mazza_forever'}\n",
      "{'id': 1505412133655560199, 'text': 'RT @UN_CFS: Read the statement by @UN_CFS Chairperson @GabrielFerrero1 on the impact of the conflict in Ukraine on global #FoodSecurity &amp; #…', 'user_id': 1164128526565380096, 'name': 'Jesse Pinkman', 'username': 'JessePi16223066'}\n",
      "{'id': 1505412132657061890, 'text': 'RT @franakviacorka: Heroes! Belarusian railway workers disrupted the railway connection with Ukraine so that trains with Russian equipment…', 'user_id': 776345541571702784, 'name': 'Lasse Tryde', 'username': 'lasse_tryde'}\n",
      "{'id': 1505412132338388992, 'text': 'RT @ragipsoylu: “We shouldn’t give MIGs to Ukraine because it would be escalatory and Putin could attack NATO.” \\n\\n–— “how about Turkey give…', 'user_id': 1131296972646834176, 'name': 'roger', 'username': 'Roger91880753'}\n",
      "{'id': 1505412132053000196, 'text': 'RT @OccupyDemocrats: BREAKING NEWS: In a major loss for Putin, NATO announces that it is sending an air defense system to Ukraine in order…', 'user_id': 851959939228590080, 'name': 'Rafael Cordova', 'username': 'RafaelC75424210'}\n",
      "{'id': 1505412131520331776, 'text': \"RT @SkyNews: Ukraine war: Thousands of Mariupol residents 'forcibly' taken to Russia, mayor claims https://t.co/SwG64WhkSf\", 'user_id': 1339141490736447488, 'name': 'Justing', 'username': 'Justingwinwin'}\n",
      "{'id': 1505412131226734596, 'text': '@judyhamomd @TiMoudou @OccupyDemocrats Sorry to hear about Ukraine I have faith in you', 'user_id': 1219398148260552705, 'name': 'TJS271', 'username': 'tjs271'}\n",
      "{'id': 1505412131155419137, 'text': 'RT @geberegziabhire: While the #IC focuses on the #Russia-Ukraine war, #AbiyAhmedAli &amp; his allies are preparing to reinvade #Tigray. #StopT…', 'user_id': 1483582192609796099, 'name': '𝐇𝐀𝐅𝐓𝐎𝐌', 'username': 'Natsinet_Gezma'}\n",
      "{'id': 1505412131138715648, 'text': '@FroTrades This is the point of no return.\\nCovid19 destruction of economy, BLM/Antifa, followed by a questionable election, insane witch hunt on Jan 4th, massive lying about jabs &amp; now Ukraine is the bastion of freedom?\\nToo many bridges of Trust have been burned, things will only get worse.', 'user_id': 1486180690181996545, 'name': 'ScalpBruh 🇷🇺', 'username': 'scalpbruh'}\n",
      "{'id': 1505412130983800837, 'text': 'RT @djrothkopf: Putin started this carnage without justification. He alone has made the decision to escalate. He has serially violated inte…', 'user_id': 703363058521894912, 'name': 'Rich Melville', 'username': 'RichMelville01'}\n",
      "{'id': 1505412130836664320, 'text': 'RT @OmahaSpeak: Ukraine gets $800,000,000 of your money.  Congress just gave themselves a 21% pay raise with your money.  You get $5 gas. h…', 'user_id': 906222176453439488, 'name': 'gingersnap🍊🇺🇸✝️🕊🍊👀🦅🚚🍊', 'username': 'owlsvaultstone'}\n",
      "{'id': 1505412130689880067, 'text': 'RT @RhodeIslandPSL: It’s a myth that the people of Ukraine had some deep-seated hatred of Russia and the Soviet Union. The vast majority of…', 'user_id': 2997604370, 'name': 'ساميه 💚', 'username': 'muslimahsamiyah'}\n",
      "{'id': 1505412130547576836, 'text': 'RT @IAPonomarenko: I actually like the idea of establishing a full-fledged defense alliance of Ukraine, Georgia, Poland, Moldova, the Balti…', 'user_id': 1347651932043714562, 'name': 'Eddy', 'username': 'Eddy86541520'}\n",
      "{'id': 1505412130471747587, 'text': 'RT @Kateryna_Kruk: Motherhood.\\nUkraine, Europe, 2022 https://t.co/LGyG6pIbBM', 'user_id': 1183848673165398018, 'name': 'Oleksandr Shyn 申武松', 'username': 'olekshyn'}\n",
      "{'id': 1505412130299863041, 'text': 'RT @ProtonMail: In addition to what we announced earlier, we are inviting our subscribers in #Ukraine who are unable to pay their subscript…', 'user_id': 106196958, 'name': 'FRN2000@VintageOS', 'username': 'VintageOS'}\n",
      "{'id': 1505412130199199745, 'text': \"RT @jclvallee1: #ESPACE🚀Guerre en Ukraine : Trois astronautes russes ont rejoint l'ISS, dans un contexte de tensions extrêmes - https://t.c…\", 'user_id': 1034485597, 'name': 'eric toulorge', 'username': 'erictoulorge'}\n",
      "{'id': 1505412130039685121, 'text': 'RT @KevinRothrock: Kamran Manafly, a 28-yr-old geography teacher in Moscow, rejected new guidelines on lecturing to his students about the…', 'user_id': 1476185088148656128, 'name': 'Quin Peat', 'username': 'QuinPeat'}\n",
      "{'id': 1505412129972752384, 'text': 'RT @lilyslynch: I keep seeing commentators say that Putin \"destroyed German pacifism\". Apparently no one remembers that the German air forc…', 'user_id': 3145494765, 'name': 'Døctoяperrфgrullo', 'username': 'Dperogrullo'}\n",
      "{'id': 1505412129943343105, 'text': 'RT @anadoluagency: Strategic meeting of Ukrainian, Russian leaders needed for permanent peace: Turkiye https://t.co/SvfU1hrw3z https://t.co…', 'user_id': 1441732563014352898, 'name': 'zeeshan sanga', 'username': 'zeeshansanga9'}\n",
      "{'id': 1505412129838739456, 'text': 'RT @spearsden: 「死は街を満たしている。露軍包囲開始後の死者数は地元当局によると２５００人を超えたが、続く砲撃のため全ての遺体を数えられていない。当局者は遺族に、危険すぎて葬儀はできないから路上の遺体は放置してと伝えている」ＡＰマリウポリ報告\\u3000https://t.…', 'user_id': 120355358, 'name': 'KAWANISHI Yoji', 'username': 'miz10010'}\n",
      "{'id': 1505412129473851393, 'text': 'RT @AydaNews: هل تسلم تركيا  منظومة الدفاع الجوي S400 الروسية التي تمتلكها إلى #أوكرانيا، مقابل مقاتلات F35 الأمريكية بالإضافة إلى رفع كافة…', 'user_id': 1335968552050974720, 'name': 'صامت', 'username': 'Thetosilent'}\n",
      "{'id': 1505412129402224642, 'text': 'RT @olex_scherba: Deputy commander of #Russia’s Black Sea Fleet Andrey Paliy ain’t coming home from #Ukraine.\\n\\n#StandWithUkriane #RussiaInv…', 'user_id': 976973419, 'name': '🌻🇺🇦Stand With Ukraine🇺🇦🌻', 'username': 'liberaltrucker'}\n",
      "{'id': 1505412129280897024, 'text': 'RT @TomoMachi: 「ロシア正教のキリル総主教は、盟友プーチン大統領のウクライナ侵攻を祝福した。キリル総主教とプーチン大統領を結びつけるのはルースキー・ミール（ロシア的世界）という大ロシア主義。だが、総主教のウクライナ侵攻支持は、諸外国の正教会の反発を引き起こしている…', 'user_id': 379487395, 'name': 'のわーる@くたばれスタ公！サド万歳！', 'username': 'noirseuil'}\n",
      "{'id': 1505412129167450113, 'text': 'RT @I_Katchanovski: Democracy: #Zelensky &amp; his National Security and Defense Council of #Ukraine suspend activities of 11 opposition partie…', 'user_id': 1127427836174843905, 'name': 'FRIEDLAND', 'username': 'FRIEDLA82499789'}\n",
      "{'id': 1505412129146482691, 'text': 'RT @GeneralStaffUA: 🇺🇦 Оперативна інформація станом на 06.00 20.03.2022 щодо російського вторгнення/ 🇬🇧 Operational information at 06.00 on…', 'user_id': 736111463375482880, 'name': 'Ry5lanko', 'username': 'ry5lanko'}\n",
      "{'id': 1505412128861134851, 'text': 'RT @StopVladdyDaddy: TikTok was ‘just a dancing app’. Then the Ukraine war started https://t.co/pjaDczrMeR', 'user_id': 1232873154156126221, 'name': 'Lxrdly', 'username': 'thatlxrdlyguy'}\n",
      "{'id': 1505412128840245259, 'text': 'RT @avalaina: My brave colleague Natalia Panchenko and other activists have been blocking trucks from Russia on the border with Poland for…', 'user_id': 2787089534, 'name': 'Dr. Doubt', 'username': 'othinkagain'}\n",
      "{'id': 1505412128819539971, 'text': 'RT @nexta_tv: #Russian aviation has significantly reduced its presence in the #Ukrainian sky\\n\\nThis is reported in the Command of the Air Fo…', 'user_id': 1338989078201643009, 'name': 'NewBegin2020', 'username': 'NBegin2020'}\n",
      "{'id': 1505412128303316996, 'text': 'RT @KyivIndependent: ⚡️Danilov: Ukraine will receive a new batch of weapons from the U.S. in the coming days.\\n\\nThe military expects Stinger…', 'user_id': 1341578560503332865, 'name': 'Phil', 'username': 'Phillameena'}\n",
      "{'id': 1505412127963504641, 'text': 'RT @gypsybels: \"The only thing that can provoke Russia into a hostile and vigorous response is the expansion of NATO to the Baltic states.\"…', 'user_id': 1337517205466931202, 'name': '🌷🌹🌸BubbleGumGirl🌺🌼💮', 'username': 'BggMinty'}\n",
      "{'id': 1505412127535812609, 'text': 'RT @elenaevdokimov7: Map 1- how Ukraine presents the current military situation \\nMap 2- Russian &amp;DPR open media sources \\nMap 3- CNN map\\nMap…', 'user_id': 4244579332, 'name': 'Nidham', 'username': 'Nidham5'}\n",
      "{'id': 1505412126894088193, 'text': \"RT @RALee85: Ukraine's 79th Air Assault Brigade in Mikolaiv was targeted by Russian forces.\\nhttps://t.co/MS8ZHnF8Bt\\nhttps://t.co/KTt4hx3HsA…\", 'user_id': 1023288019649028096, 'name': 'One', 'username': 'One45334837'}\n",
      "{'id': 1505412126436909060, 'text': 'RT @Kateryna_Kruk: Motherhood.\\nUkraine, Europe, 2022 https://t.co/LGyG6pIbBM', 'user_id': 3424404081, 'name': 'Crds ت 🇵🇹🇪🇺🇫🇷💉💉', 'username': 'crdsar'}\n",
      "{'id': 1505412126411743232, 'text': 'Johnson using the suffering and death in Ukraine to try and save himself from #Partygate is the lowest of the low.\\nJohnson and the Conservative government must go..\\nHe is a national embarrassment.\\n#JohnsonOut https://t.co/Zixmjfo1uU', 'user_id': 1259777788833398784, 'name': 'Paul Harrington #FBPE', 'username': 'PaulHar17142469'}\n",
      "{'id': 1505412126353068032, 'text': \"This is ALMOST identical to what happened to my spouse's mother's parents, and her mother's family. The main difference is that they were removed from Eastern Poland (which is now Western Ukraine), instead of Estonia. https://t.co/xUpTKOwYZD\", 'user_id': 94858037, 'name': 'cliff', 'username': 'atpcliff'}\n",
      "{'id': 1505412125824458753, 'text': 'RT @michaelidov: Russian singer Zemfira deleted all videos from her YouTube channel except two - a Ukrainian song and a video of Russian at…', 'user_id': 1497541781503635461, 'name': 'Merry from Australia', 'username': 'KingMerelyn'}\n",
      "{'id': 1505412125597917188, 'text': 'RT @AFP: More than 3.3 million refugees have now fled Ukraine since the Russian invasion, the United Nations said Saturday, while nearly 6.…', 'user_id': 1711532310, 'name': 'Joseph Hoffman', 'username': 'schiecklivitcus'}\n",
      "{'id': 1505412125501505537, 'text': 'RT @NewsPost_com: https://t.co/b6o6d8HKQp', 'user_id': 1426557762536841216, 'name': '明織', 'username': 'MeiShiki0'}\n",
      "{'id': 1505412125300510720, 'text': 'Stop Killing Ukraine Children！\\n#StopWar \\n#StopPutin\\n#ウクライナに平和を\\n#ウクライナに自由を\\n#戦争やめよう\\n\\n3月20日13時から16時まで、在日ウクライナ人が呼びかけた新宿駅南口での「ウクライナ支援デモ」に100人以上が参加。\\n\\n戦争犯罪人プーチンの残虐な侵略を止めるために出来ることを📢 https://t.co/yUKshBG2AY', 'user_id': 91727675, 'name': '杉原こうじ（NAJAT・緑の党）', 'username': 'kojiskojis'}\n",
      "{'id': 1505412125165973506, 'text': '@scaleindependen @suelarsh71 @nytimesworld @danielme1980 Sanction Ukraine, they were the 3rd largest coalition partner in the U.S. invasion of Iraq.\\nhttps://t.co/jQWlIxsUkH', 'user_id': 1483198498375753732, 'name': 'NM Vet', 'username': 'anth01712833'}\n",
      "{'id': 1505412124469694465, 'text': 'RT @nexta_tv: He also called it an \"alarming signal\" that Belarusian diplomats left #Ukraine\\n\\nDenisenko believes that Lukashenko still does…', 'user_id': 58337417, 'name': 'john ned', 'username': 'johndned'}\n",
      "{'id': 1505412124155203585, 'text': 'RT @DominiqueTaegon: I have no problem with celebrating the bravery of the Ukrainian people.\\n\\nBut for the PM to present Ukraine as a beacon…', 'user_id': 1348217168882753537, 'name': 'Simon 🌐', 'username': 'sequi_simon'}\n",
      "{'id': 1505412123844698116, 'text': 'RT @EuromaidanPress: Several small anti-war protests took place in occupied Crimea amid a conscription campaign, which constitutes a war cr…', 'user_id': 880889004370960385, 'name': 'ProtectiveHen 🌻 Boosted & Standing with Ukraine', 'username': 'bok_bok_ba_GOK'}\n",
      "{'id': 1505412122976481284, 'text': '@With__Ukraine What is that even supposed to mean', 'user_id': 1496789053236252675, 'name': '🇺🇦🌻🇺🇦', 'username': 'JAnonym4'}\n",
      "{'id': 1505412122926321665, 'text': 'RT @phildstewart: Ukraine\\'s Mariupol says Russia forcefully deported thousands of its people - Reuters \\n\\n\"The occupiers illegally took peop…', 'user_id': 4009632850, 'name': 'Lisa Against Fascism 🇨🇦Slava Ukraini 🇺🇦', 'username': 'lmv6719'}\n",
      "{'id': 1505412122494349315, 'text': \"RT @caitoz: There's nothing wrong in Ukraine that a little US military interventionism couldn't make much, much worse.\", 'user_id': 963402229158948864, 'name': 'GrandContrarian', 'username': 'GContrarian'}\n",
      "{'id': 1505412121730838528, 'text': 'RT @StopVladdyDaddy: Big oil could bring US gas prices down but won’t – so hit it with a windfall tax | Robert Reich https://t.co/EB02GopczC', 'user_id': 1232873154156126221, 'name': 'Lxrdly', 'username': 'thatlxrdlyguy'}\n",
      "{'id': 1505412121512878080, 'text': 'RT @KyivIndependent: AP: Mariupol police officer pleads for help from Biden, Macron in video post. \\n\\nOfficer Michail Vershnin, addressed th…', 'user_id': 2279334462, 'name': '🏴\\u200d☠️Yougottabekiddingme🇺🇸🇺🇦🌻', 'username': 'finallyinheaven'}\n",
      "{'id': 1505412121248813063, 'text': 'RT @travisakers: The sun is rising over Ukraine. Kyiv still stands.', 'user_id': 1322616370236809216, 'name': 'Katherine Seal', 'username': 'KatherineSeal7'}\n",
      "{'id': 1505412120745230340, 'text': \"RT @KyivPost: Ukraine’s poet-lioness, #LinaKostenko, turns 92 today\\n\\nUkraine's legendary poet, Lina Kostenko, the voice and spirit of her i…\", 'user_id': 39565575, 'name': 'Nadine Orosa', 'username': 'nadine_or'}\n",
      "{'id': 1505412120619335684, 'text': 'RT @calgary20201010: 【Ukraine Rescue] We have some fellow fighters recovered &amp;back to work again today. After the recovery, our follow figh…', 'user_id': 1076922209619177472, 'name': '撩开云雾看世界', 'username': 'Cathylan9'}\n",
      "{'id': 1505412120313311233, 'text': '@andersostlund Soon they exhaust their regular missiles &amp; opt to use the nuclear powered ones. Give up Ukraine.!!!', 'user_id': 1078754998597677056, 'name': 'neymar.ius', 'username': 'Chris_unruly1'}\n",
      "{'id': 1505412120049029122, 'text': 'RT @Kateryna_Kruk: Motherhood.\\nUkraine, Europe, 2022 https://t.co/LGyG6pIbBM', 'user_id': 993068006174613504, 'name': 'Inspector Baboon', 'username': 'InspectorBaboon'}\n",
      "{'id': 1505412119763816455, 'text': 'RT @BillPascrell: This is your regular reminder that when donald trump withheld military aid to Ukraine to extort President Zelenskyy, 99%…', 'user_id': 1238686157271007232, 'name': 'Laxlaxtkw', 'username': 'Laxlaxtkw1'}\n",
      "{'id': 1505412119059124230, 'text': 'RT @nexta_tv: #Russian troops are approaching Belarus-Ukraine border and will try to cross it\\n\\n\"I speak now my personal opinion but I would…', 'user_id': 333238347, 'name': 'Stanley Panama', 'username': 'StanleyPanama'}\n",
      "{'id': 1505412118798995456, 'text': 'Ukraine &amp; Russia – for what? https://t.co/sZBTP0QQgi via @https://twitter.com/Anastas78862673', 'user_id': 1258630864646189057, 'name': 'Anastasia Thomas', 'username': 'Anastas78862673'}\n",
      "{'id': 1505412118262083586, 'text': 'RT @VeraVanHorne: Tweet of the day👇🏻 (The same day Zelensky banned ALL opposition in Ukraine)', 'user_id': 1231679390389432320, 'name': '🦨💦NAZIS', 'username': 'Phnxta_Ink'}\n",
      "{'id': 1505412118115278851, 'text': 'RT @Highlandlions: 新中国联邦法治基金的救援，无法回避的存在！\\nhttps://t.co/yGOr0YSYBa\\n女主发了Insgram短视频，几乎有我们大帐篷的特写，有账号的战友可下载来传播啊... https://t.co/PFKJnascPW', 'user_id': 1290217057573695489, 'name': '7777（澳喜特战旅）🌻🌻🌻', 'username': 'gsgf7777'}\n",
      "{'id': 1505412118102773762, 'text': 'RT @anders_aslund: General Staff of the Ukrainian Armed Forces: \\nIn 23 days, Russia conducted 1,403 air raids and 291 missile strikes on Uk…', 'user_id': 18820808, 'name': 'Valerie Rose Brinton (she/her)', 'username': 'Sharedfield'}\n",
      "{'id': 1505412117578457089, 'text': '@AnupamPKher Front Wale chacha Ukraine supporter hai..\\nEk teer do nishane', 'user_id': 162696110, 'name': 'Pankaj kundal', 'username': 'kundal318'}\n",
      "{'id': 1505412116991385601, 'text': 'RT @flagnetwork_NFT: 🕊️The #FlagNetwork Charity Foundation would like to announce an event to support the people of Ukraine\\n\\n🎁Total budget:…', 'user_id': 1406924827609513987, 'name': 'Tanveer', 'username': 'Tanveer34975706'}\n",
      "{'id': 1505412116844404740, 'text': 'RT @McFaul: Putin will lose his unprovoked, senseless, inhumane war in Ukraine. The only unknowns are when and at what cost. The West must…', 'user_id': 1466641886786080774, 'name': 'DmytroHead', 'username': 'DmytroHead'}\n",
      "{'id': 1505412116789936128, 'text': 'This one is epic! Three day sale of the freakiest Mickiest Mocker!\\n\\n#NFTshill #NFTCommmunity #NFTcollectibles #Ukraine #anime #halloween2022 \\n\\n@elonmusk @HuobiGlobal @opensea \\n\\nhttps://t.co/tGoMYNg8xb https://t.co/rvxH5ivJeI', 'user_id': 1396341104933539840, 'name': 'Parodeez', 'username': 'Parodeez_NFTz'}\n",
      "{'id': 1505412116701921281, 'text': 'RT @emeriticus: Zelensky is determined to drag the US and NATO directly into his war, and he has effectively just criminalized all politica…', 'user_id': 1699094216, 'name': '@🗣️Turn off mainstream media', 'username': 'Deckard63162031'}\n",
      "{'id': 1505412116697821186, 'text': 'RT @GeneralStaffUA: 🇺🇦 Оперативна інформація станом на 06.00 20.03.2022 щодо російського вторгнення/ 🇬🇧 Operational information at 06.00 on…', 'user_id': 1195685200262574080, 'name': 'Роман Левадний', 'username': 'Roman_Levadnyj'}\n"
     ]
    }
   ],
   "source": [
    "results = []\n",
    "\n",
    "if not tweet_data is None and len(tweet_data) > 0: \n",
    "    for tweet in tweet_data: \n",
    "        twt = client.get_tweet(tweet.id, expansions = ['author_id'], user_fields = ['username'])\n",
    "        obj = {}\n",
    "        obj['id'] = tweet.id\n",
    "        obj['text'] = tweet.text\n",
    "        obj['user_id'] = twt.includes['users'][0].id\n",
    "        obj['name'] = twt.includes['users'][0].name\n",
    "        obj['username'] = twt.includes['users'][0].username\n",
    "        results.append(obj)\n",
    "     \n",
    "for tweet in results:\n",
    "    print(tweet)\n",
    "    \n",
    "#tweet.id, tweet.text"
   ]
  },
  {
   "cell_type": "code",
   "execution_count": 9,
   "id": "a6e2edda",
   "metadata": {},
   "outputs": [
    {
     "name": "stdout",
     "output_type": "stream",
     "text": [
      "RT @EliotHiggins: Nothing says more about the crass brutality of Putin's war in Ukraine than this satellite image of the bombed remains of…\n"
     ]
    },
    {
     "ename": "AttributeError",
     "evalue": "'Response' object has no attribute 'text'",
     "output_type": "error",
     "traceback": [
      "\u001b[0;31m---------------------------------------------------------------------------\u001b[0m",
      "\u001b[0;31mAttributeError\u001b[0m                            Traceback (most recent call last)",
      "\u001b[0;32m<ipython-input-9-29d2d8331d34>\u001b[0m in \u001b[0;36m<module>\u001b[0;34m\u001b[0m\n\u001b[1;32m      2\u001b[0m \u001b[0mtweet\u001b[0m \u001b[0;34m=\u001b[0m \u001b[0mclient\u001b[0m\u001b[0;34m.\u001b[0m\u001b[0mget_tweet\u001b[0m\u001b[0;34m(\u001b[0m\u001b[0mid\u001b[0m\u001b[0;34m,\u001b[0m \u001b[0mexpansions\u001b[0m \u001b[0;34m=\u001b[0m \u001b[0;34m[\u001b[0m\u001b[0;34m'author_id'\u001b[0m\u001b[0;34m]\u001b[0m\u001b[0;34m,\u001b[0m \u001b[0muser_fields\u001b[0m \u001b[0;34m=\u001b[0m \u001b[0;34m[\u001b[0m\u001b[0;34m'username'\u001b[0m\u001b[0;34m]\u001b[0m\u001b[0;34m)\u001b[0m\u001b[0;34m\u001b[0m\u001b[0;34m\u001b[0m\u001b[0m\n\u001b[1;32m      3\u001b[0m \u001b[0mprint\u001b[0m\u001b[0;34m(\u001b[0m\u001b[0mtweet\u001b[0m\u001b[0;34m[\u001b[0m\u001b[0;36m0\u001b[0m\u001b[0;34m]\u001b[0m\u001b[0;34m)\u001b[0m\u001b[0;34m\u001b[0m\u001b[0;34m\u001b[0m\u001b[0m\n\u001b[0;32m----> 4\u001b[0;31m \u001b[0mprint\u001b[0m\u001b[0;34m(\u001b[0m\u001b[0mtweet\u001b[0m\u001b[0;34m.\u001b[0m\u001b[0mtext\u001b[0m\u001b[0;34m)\u001b[0m\u001b[0;34m\u001b[0m\u001b[0;34m\u001b[0m\u001b[0m\n\u001b[0m\u001b[1;32m      5\u001b[0m \u001b[0mprint\u001b[0m\u001b[0;34m(\u001b[0m\u001b[0mtweet\u001b[0m\u001b[0;34m.\u001b[0m\u001b[0mincludes\u001b[0m\u001b[0;34m[\u001b[0m\u001b[0;34m'users'\u001b[0m\u001b[0;34m]\u001b[0m\u001b[0;34m[\u001b[0m\u001b[0;36m0\u001b[0m\u001b[0;34m]\u001b[0m\u001b[0;34m.\u001b[0m\u001b[0mid\u001b[0m\u001b[0;34m)\u001b[0m\u001b[0;34m\u001b[0m\u001b[0;34m\u001b[0m\u001b[0m\n\u001b[1;32m      6\u001b[0m \u001b[0mprint\u001b[0m\u001b[0;34m(\u001b[0m\u001b[0mtweet\u001b[0m\u001b[0;34m.\u001b[0m\u001b[0mincludes\u001b[0m\u001b[0;34m[\u001b[0m\u001b[0;34m'users'\u001b[0m\u001b[0;34m]\u001b[0m\u001b[0;34m[\u001b[0m\u001b[0;36m0\u001b[0m\u001b[0;34m]\u001b[0m\u001b[0;34m.\u001b[0m\u001b[0mname\u001b[0m\u001b[0;34m)\u001b[0m\u001b[0;34m\u001b[0m\u001b[0;34m\u001b[0m\u001b[0m\n",
      "\u001b[0;31mAttributeError\u001b[0m: 'Response' object has no attribute 'text'"
     ]
    }
   ],
   "source": [
    "id = results[0]['id']\n",
    "tweet = client.get_tweet(id, expansions = ['author_id'], user_fields = ['username'])\n",
    "print(tweet[0])\n",
    "print(tweet.text)\n",
    "print(tweet.includes['users'][0].id)\n",
    "print(tweet.includes['users'][0].name)\n",
    "print(tweet.includes['users'][0].username)\n",
    "print(tweet)"
   ]
  },
  {
   "cell_type": "code",
   "execution_count": 81,
   "id": "68337c87",
   "metadata": {
    "scrolled": true
   },
   "outputs": [
    {
     "data": {
      "text/plain": [
       "1505371991892709381"
      ]
     },
     "execution_count": 81,
     "metadata": {},
     "output_type": "execute_result"
    }
   ],
   "source": [
    "results[0]['id']"
   ]
  },
  {
   "cell_type": "code",
   "execution_count": 110,
   "id": "9a552f06",
   "metadata": {},
   "outputs": [],
   "source": [
    "df = pd.DataFrame(tweet_data) \n",
    "df.to_csv('tweets4.csv')"
   ]
  },
  {
   "cell_type": "code",
   "execution_count": null,
   "id": "dce33728",
   "metadata": {},
   "outputs": [],
   "source": []
  }
 ],
 "metadata": {
  "kernelspec": {
   "display_name": "Python 3",
   "language": "python",
   "name": "python3"
  },
  "language_info": {
   "codemirror_mode": {
    "name": "ipython",
    "version": 3
   },
   "file_extension": ".py",
   "mimetype": "text/x-python",
   "name": "python",
   "nbconvert_exporter": "python",
   "pygments_lexer": "ipython3",
   "version": "3.8.8"
  }
 },
 "nbformat": 4,
 "nbformat_minor": 5
}
